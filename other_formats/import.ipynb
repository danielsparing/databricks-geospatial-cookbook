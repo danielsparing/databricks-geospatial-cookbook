{
 "cells": [
  {
   "cell_type": "markdown",
   "metadata": {
    "application/vnd.databricks.v1+cell": {
     "cellMetadata": {},
     "inputWidgets": {},
     "nuid": "d8606e1f-b504-4576-808e-b0ad33a78c5b",
     "showTitle": false,
     "tableResultSettingsMap": {},
     "title": ""
    }
   },
   "source": [
    "# Import geospatial formats into Delta Lake with DuckDB\n",
    "\n",
    "This example focuses on a few example formats, but the same workflow works just as much for any spatial format that DuckDB Spatial supports via its GDAL integration, see the output of [ST_Drivers](https://duckdb.org/docs/stable/core_extensions/spatial/functions.html#st_drivers)."
   ]
  },
  {
   "cell_type": "markdown",
   "metadata": {
    "application/vnd.databricks.v1+cell": {
     "cellMetadata": {},
     "inputWidgets": {},
     "nuid": "68e6a9d1-7840-45a4-a3bc-5cdae9936972",
     "showTitle": false,
     "tableResultSettingsMap": {},
     "title": ""
    }
   },
   "source": [
    "## Setup"
   ]
  },
  {
   "cell_type": "code",
   "execution_count": null,
   "metadata": {
    "application/vnd.databricks.v1+cell": {
     "cellMetadata": {
      "byteLimit": 2048000,
      "rowLimit": 10000
     },
     "inputWidgets": {},
     "nuid": "e3febeb1-ea57-49c0-8134-50c8424770c3",
     "showTitle": false,
     "tableResultSettingsMap": {},
     "title": ""
    }
   },
   "outputs": [],
   "source": [
    "%pip install duckdb --quiet"
   ]
  },
  {
   "cell_type": "code",
   "execution_count": null,
   "metadata": {
    "application/vnd.databricks.v1+cell": {
     "cellMetadata": {
      "byteLimit": 2048000,
      "rowLimit": 10000
     },
     "inputWidgets": {},
     "nuid": "866e1ff2-579b-4501-87d1-26b2cad013b0",
     "showTitle": false,
     "tableResultSettingsMap": {},
     "title": ""
    }
   },
   "outputs": [],
   "source": [
    "import duckdb\n",
    "\n",
    "duckdb.sql(\"install spatial; load spatial\")"
   ]
  },
  {
   "cell_type": "markdown",
   "metadata": {
    "application/vnd.databricks.v1+cell": {
     "cellMetadata": {},
     "inputWidgets": {},
     "nuid": "def4386b-2411-4f49-8715-73ff99ba5d5c",
     "showTitle": false,
     "tableResultSettingsMap": {},
     "title": ""
    }
   },
   "source": [
    "::: {.callout-note}\n",
    "\n",
    "If `install spatial` fails (especially if you are _not_ using the Free Edition or Serverless Compute, but classic compute), check whether HTTP is blocked on your (corporate) network. If so, then you need to work around it as described [here](../appendix/https_install_duckdbextension.ipynb).\n",
    "\n",
    ":::"
   ]
  },
  {
   "cell_type": "code",
   "execution_count": null,
   "metadata": {
    "application/vnd.databricks.v1+cell": {
     "cellMetadata": {
      "byteLimit": 2048000,
      "rowLimit": 10000
     },
     "inputWidgets": {},
     "nuid": "be572637-b7f5-464c-85a8-950008bd461e",
     "showTitle": false,
     "tableResultSettingsMap": {},
     "title": ""
    }
   },
   "outputs": [],
   "source": [
    "CATALOG = \"workspace\"\n",
    "SCHEMA = \"default\"\n",
    "VOLUME = \"default\"\n",
    "\n",
    "spark.sql(f\"use {CATALOG}.{VOLUME}\")"
   ]
  },
  {
   "cell_type": "markdown",
   "metadata": {
    "application/vnd.databricks.v1+cell": {
     "cellMetadata": {},
     "inputWidgets": {},
     "nuid": "edfc5977-562b-4484-8757-9e5f3667128b",
     "showTitle": false,
     "tableResultSettingsMap": {},
     "title": ""
    }
   },
   "source": [
    "## Import Geopackage\n",
    "\n",
    "::: {.callout-note}\n",
    "\n",
    "NOTE: This example is focusing on using DuckDB to parse the GeoPackage. For more complex GeoPackages, you may need to [install GDAL](../appendix/databricks_ogr2ogr_parquet.ipynb]) and use the GDAL command line tools.\n",
    "\n",
    ":::"
   ]
  },
  {
   "cell_type": "code",
   "execution_count": null,
   "metadata": {
    "application/vnd.databricks.v1+cell": {
     "cellMetadata": {
      "byteLimit": 2048000,
      "rowLimit": 10000
     },
     "inputWidgets": {},
     "nuid": "9f86a6d7-66f7-41d5-ac5e-3d6512a660f9",
     "showTitle": false,
     "tableResultSettingsMap": {},
     "title": ""
    }
   },
   "outputs": [],
   "source": [
    "GPKG_URL = \"https://service.pdok.nl/kadaster/bestuurlijkegebieden/atom/v1_0/downloads/BestuurlijkeGebieden_2025.gpkg\""
   ]
  },
  {
   "cell_type": "code",
   "execution_count": null,
   "metadata": {
    "application/vnd.databricks.v1+cell": {
     "cellMetadata": {
      "byteLimit": 2048000,
      "rowLimit": 10000
     },
     "inputWidgets": {},
     "nuid": "e7857b33-fa48-4b70-a9f0-e4c732db394f",
     "showTitle": false,
     "tableResultSettingsMap": {},
     "title": ""
    }
   },
   "outputs": [],
   "source": [
    "layers = duckdb.sql(\n",
    "    f\"\"\"\n",
    "with t as (\n",
    "    select unnest(layers) layer\n",
    "     from st_read_meta('{GPKG_URL}'))\n",
    "select\n",
    "    layer.name layer_name,\n",
    "    layer.geometry_fields[1].name geom_field\n",
    "from t\"\"\"\n",
    ").df()\n",
    "\n",
    "layers\n",
    "\n",
    "# Returns:\n",
    "\n",
    "# layer_name\tgeom_field\n",
    "# 0\tgemeentegebied\tgeom\n",
    "# 1\tlandgebied\tgeom\n",
    "# 2\tprovinciegebied\tgeom"
   ]
  },
  {
   "cell_type": "code",
   "execution_count": null,
   "metadata": {
    "application/vnd.databricks.v1+cell": {
     "cellMetadata": {
      "byteLimit": 2048000,
      "rowLimit": 10000
     },
     "inputWidgets": {},
     "nuid": "b8b6b100-c385-48de-97a3-888387562961",
     "showTitle": false,
     "tableResultSettingsMap": {},
     "title": ""
    }
   },
   "outputs": [],
   "source": [
    "# pick a layer to read\n",
    "layer_name, geom_field = layers.loc[0, [\"layer_name\", \"geom_field\"]]\n",
    "\n",
    "duckdb.sql(\n",
    "    f\"\"\"copy (\n",
    "  select * replace(st_aswkb({geom_field}) as {geom_field})\n",
    "  from\n",
    "    st_read(\n",
    "      '{GPKG_URL}',\n",
    "      layer='{layer_name}')\n",
    "  ) to '/Volumes/{CATALOG}/{SCHEMA}/{VOLUME}/{layer_name}.parquet' (format parquet)\"\"\"\n",
    ")"
   ]
  },
  {
   "cell_type": "code",
   "execution_count": null,
   "metadata": {
    "application/vnd.databricks.v1+cell": {
     "cellMetadata": {
      "byteLimit": 2048000,
      "rowLimit": 10000
     },
     "inputWidgets": {},
     "nuid": "e70e2f47-a67b-4ea6-8748-d6bf45b1d667",
     "showTitle": false,
     "tableResultSettingsMap": {},
     "title": ""
    }
   },
   "outputs": [],
   "source": [
    "spark.read.parquet(\n",
    "    f\"/Volumes/{CATALOG}/{SCHEMA}/{VOLUME}/{layer_name}.parquet\"\n",
    ").display()"
   ]
  },
  {
   "cell_type": "markdown",
   "metadata": {
    "application/vnd.databricks.v1+cell": {
     "cellMetadata": {},
     "inputWidgets": {},
     "nuid": "422f893f-7fb4-4c10-8ebd-488b697373e7",
     "showTitle": false,
     "tableResultSettingsMap": {},
     "title": ""
    }
   },
   "source": [
    "You can store the above spark data frame as a Delta Lake table as needed:"
   ]
  },
  {
   "cell_type": "code",
   "execution_count": null,
   "metadata": {
    "application/vnd.databricks.v1+cell": {
     "cellMetadata": {},
     "inputWidgets": {},
     "nuid": "e804becb-457a-4913-af5b-abe69f3abe53",
     "showTitle": false,
     "tableResultSettingsMap": {},
     "title": ""
    }
   },
   "outputs": [],
   "source": [
    "# TABLENAME = None  # FILL ME IN\n",
    "\n",
    "# spark.read.parquet(\n",
    "#     f\"/Volumes/{CATALOG}/{SCHEMA}/{VOLUME}/{layer_name}.parquet\"\n",
    "# ).write.saveAsTable(f\"{CATALOG}.{SCHEMA}.{TABLENAME}\")"
   ]
  },
  {
   "cell_type": "markdown",
   "metadata": {
    "application/vnd.databricks.v1+cell": {
     "cellMetadata": {},
     "inputWidgets": {},
     "nuid": "0c1b2d32-daa5-4dab-881d-b722237a068b",
     "showTitle": false,
     "tableResultSettingsMap": {},
     "title": ""
    }
   },
   "source": [
    "## Import OpenStreetMap data\n",
    "\n",
    "If you need data from OpenStreetMap (OSM) that is also available via Overture Maps, you are way better off using the latter. You could follow their [DuckDB tutorial](https://docs.overturemaps.org/getting-data/duckdb/), or, even better, make use of CARTO's pre-loaded delta lake tables via the [Marketplace](https://marketplace.databricks.com/provider/dd56dcf4-cb70-449e-abad-c8038c0de3d9/CARTO).\n",
    "\n",
    "However, by far not all OSM data is available in Overture Maps. For example, transit data is absent. If you need such data layers, you'll need to load OSM data yourself, such as below.\n",
    "\n",
    "Pick your desired area to download at https://download.geofabrik.de/ , or, not really recommended, but you could try loading the whole world via https://planet.openstreetmap.org/ ."
   ]
  },
  {
   "cell_type": "code",
   "execution_count": null,
   "metadata": {
    "application/vnd.databricks.v1+cell": {
     "cellMetadata": {
      "byteLimit": 2048000,
      "rowLimit": 10000
     },
     "inputWidgets": {},
     "nuid": "c9eef089-2140-4565-88c0-8a6347fe341d",
     "showTitle": false,
     "tableResultSettingsMap": {},
     "title": ""
    }
   },
   "outputs": [],
   "source": [
    "GEOFABRIK_URL = \"https://download.geofabrik.de/europe/netherlands-latest.osm.pbf\""
   ]
  },
  {
   "cell_type": "code",
   "execution_count": null,
   "metadata": {
    "application/vnd.databricks.v1+cell": {
     "cellMetadata": {
      "byteLimit": 2048000,
      "rowLimit": 10000
     },
     "inputWidgets": {},
     "nuid": "5a00eb53-d6be-4303-9432-588e82bfe906",
     "showTitle": false,
     "tableResultSettingsMap": {},
     "title": ""
    }
   },
   "outputs": [],
   "source": [
    "file_name = GEOFABRIK_URL.split(\"/\")[-1]\n",
    "file_basename = file_name.rsplit(\".\")[0]\n",
    "volume_file_path = f\"/Volumes/{CATALOG}/{SCHEMA}/{VOLUME}/{file_name}\"\n",
    "volume_parquet_path = f\"/Volumes/{CATALOG}/{SCHEMA}/{VOLUME}/{file_basename}.parquet\""
   ]
  },
  {
   "cell_type": "code",
   "execution_count": null,
   "metadata": {
    "application/vnd.databricks.v1+cell": {
     "cellMetadata": {
      "byteLimit": 2048000,
      "rowLimit": 10000
     },
     "inputWidgets": {},
     "nuid": "13d10989-3f3a-4946-b547-d842769091c3",
     "showTitle": false,
     "tableResultSettingsMap": {},
     "title": ""
    }
   },
   "outputs": [],
   "source": [
    "!curl -o {volume_file_path} {GEOFABRIK_URL}"
   ]
  },
  {
   "cell_type": "markdown",
   "metadata": {
    "application/vnd.databricks.v1+cell": {
     "cellMetadata": {},
     "inputWidgets": {},
     "nuid": "3f52fdf4-a2ea-4991-93bd-4a889d937534",
     "showTitle": false,
     "tableResultSettingsMap": {},
     "title": ""
    }
   },
   "source": [
    "The below humble script actually does quite some heavy lifting: DuckDB Spatial recognizes the `.osm.pbf` file as an OSM extract, and calls [ST_Read_OSM](https://duckdb.org/docs/stable/core_extensions/spatial/functions.html#st_readosm) under the hood."
   ]
  },
  {
   "cell_type": "code",
   "execution_count": null,
   "metadata": {
    "application/vnd.databricks.v1+cell": {
     "cellMetadata": {
      "byteLimit": 2048000,
      "rowLimit": 10000
     },
     "inputWidgets": {},
     "nuid": "1ff81c52-bd04-42ed-b77b-8ffcf023f012",
     "showTitle": false,
     "tableResultSettingsMap": {},
     "title": ""
    }
   },
   "outputs": [],
   "source": [
    "duckdb.sql(\n",
    "    f\"\"\"\n",
    "copy (\n",
    "    select\n",
    "        *\n",
    "    from\n",
    "        '{volume_file_path}'\n",
    ") to '{volume_parquet_path}'\n",
    "(format parquet)\n",
    ";\n",
    "\"\"\"\n",
    ")"
   ]
  },
  {
   "cell_type": "markdown",
   "metadata": {
    "application/vnd.databricks.v1+cell": {
     "cellMetadata": {},
     "inputWidgets": {},
     "nuid": "59eef823-cb20-4008-ae25-4bce001202b8",
     "showTitle": false,
     "tableResultSettingsMap": {},
     "title": ""
    }
   },
   "source": [
    "You can further process this dataset into Nodes, Ways, and Relations with SQL, which is beyond the scope of this doc, but nevertheless here is a minimal example to visualize some data (showing the route shapes of the Dutch train class [Intercity Direct](https://nl.wikipedia.org/wiki/Intercity_direct)):"
   ]
  },
  {
   "cell_type": "code",
   "execution_count": null,
   "metadata": {
    "application/vnd.databricks.v1+cell": {
     "cellMetadata": {
      "byteLimit": 2048000,
      "rowLimit": 10000
     },
     "inputWidgets": {},
     "nuid": "c13adef5-7677-4c65-8744-e8f745933b7c",
     "showTitle": false,
     "tableResultSettingsMap": {},
     "title": ""
    }
   },
   "outputs": [],
   "source": [
    "# Calling `clusterBy` below will take some [time](url), but as it takes multiple joins\n",
    "# by `id` to build any structure in OSM, it is worth it.\n",
    "spark.read.parquet(volume_parquet_path).write.clusterBy(\"id\").saveAsTable(\"tmp_osm\")"
   ]
  },
  {
   "cell_type": "code",
   "execution_count": null,
   "metadata": {
    "application/vnd.databricks.v1+cell": {
     "cellMetadata": {
      "byteLimit": 2048000,
      "implicitDf": true,
      "rowLimit": 10000
     },
     "inputWidgets": {},
     "nuid": "de75fed4-5926-4808-ac66-b9799dd8e8d1",
     "showTitle": false,
     "tableResultSettingsMap": {
      "0": {
       "dataGridStateBlob": "{\"version\":1,\"tableState\":{\"columnPinning\":{\"left\":[\"#row_number#\"],\"right\":[]},\"columnSizing\":{},\"columnVisibility\":{}},\"settings\":{\"columns\":{}},\"syncTimestamp\":1754629484603}",
       "filterBlob": null,
       "queryPlanFiltersBlob": null,
       "tableResultIndex": 0
      }
     },
     "title": ""
    }
   },
   "outputs": [],
   "source": [
    "%sql\n",
    "create or replace table tmp_route_shapes as\n",
    "with route as (\n",
    "  select\n",
    "    id as route_id,\n",
    "    explode(refs) as id\n",
    "  from\n",
    "    tmp_osm\n",
    "  where\n",
    "    tmp_osm.tags.type = 'route'\n",
    "    and tmp_osm.tags.route = 'train'\n",
    "    and lower(tmp_osm.tags.brand) = 'intercity direct'\n",
    "),\n",
    "rail as (\n",
    "  select\n",
    "    id as rail_id,\n",
    "    posexplode(refs) as (pos, id)\n",
    "  from\n",
    "    route join tmp_osm using (id)\n",
    "  where\n",
    "    tags.railway = 'rail'\n",
    ")\n",
    "select\n",
    "  rail_id,\n",
    "  st_makeline(\n",
    "    collect_list(st_point(tmp_osm.lon, tmp_osm.lat)) over (partition by rail_id order by pos)\n",
    "  ) as geometry\n",
    "from\n",
    "  rail join tmp_osm using (id)"
   ]
  },
  {
   "cell_type": "code",
   "execution_count": null,
   "metadata": {
    "application/vnd.databricks.v1+cell": {
     "cellMetadata": {
      "byteLimit": 2048000,
      "rowLimit": 10000
     },
     "inputWidgets": {},
     "nuid": "a17a66e9-d384-48be-889e-459736032e22",
     "showTitle": false,
     "tableResultSettingsMap": {},
     "title": ""
    }
   },
   "outputs": [],
   "source": [
    "def spark_viz(df, wkb_col=\"geometry\", other_cols=None, limit=10_000, output_html=None):\n",
    "    # needs `%pip install duckdb lonboard shapely`\n",
    "\n",
    "    if other_cols is None:\n",
    "        other_cols = []\n",
    "\n",
    "    import duckdb\n",
    "    from lonboard import viz\n",
    "\n",
    "    try:\n",
    "        duckdb.load_extension(\"spatial\")\n",
    "    except duckdb.duckdb.IOException:\n",
    "        duckdb.install_extension(\"spatial\")\n",
    "        duckdb.load_extension(\"spatial\")\n",
    "\n",
    "    dfa = df.select([wkb_col] + other_cols).limit(limit).toArrow()\n",
    "    if dfa.num_rows == limit:\n",
    "        print(f\"Data truncated to limit {limit}\")\n",
    "\n",
    "    query = duckdb.sql(\n",
    "        f\"\"\"select * replace (st_geomfromwkb({wkb_col}) as {wkb_col})\n",
    "        from dfa\n",
    "        where {wkb_col} is not null\"\"\"\n",
    "    )\n",
    "    if output_html is None:\n",
    "        return viz(query).as_html()\n",
    "    else:\n",
    "        viz(query).to_html(output_html)\n",
    "        return output_html"
   ]
  },
  {
   "cell_type": "code",
   "execution_count": null,
   "metadata": {
    "application/vnd.databricks.v1+cell": {
     "cellMetadata": {
      "byteLimit": 2048000,
      "rowLimit": 10000
     },
     "inputWidgets": {},
     "nuid": "acea64a7-6cd0-4639-800e-fe37ebe8a4ca",
     "showTitle": false,
     "tableResultSettingsMap": {},
     "title": ""
    }
   },
   "outputs": [],
   "source": [
    "spark_viz(\n",
    "    spark.table(\"tmp_route_shapes\").selectExpr(\"st_asbinary(geometry) as geometry\"),\n",
    "    limit=100_000,\n",
    ")"
   ]
  },
  {
   "cell_type": "markdown",
   "metadata": {
    "application/vnd.databricks.v1+cell": {
     "cellMetadata": {},
     "inputWidgets": {},
     "nuid": "3adc0fa6-7a13-4315-ae23-65bf18d732d8",
     "showTitle": false,
     "tableResultSettingsMap": {},
     "title": ""
    }
   },
   "source": [
    "![icd](img/icd.png)"
   ]
  },
  {
   "cell_type": "markdown",
   "metadata": {
    "application/vnd.databricks.v1+cell": {
     "cellMetadata": {},
     "inputWidgets": {},
     "nuid": "a52fa810-82b3-4041-99cf-ff96c516406e",
     "showTitle": false,
     "tableResultSettingsMap": {},
     "title": ""
    }
   },
   "source": [
    "## Cleanup"
   ]
  },
  {
   "cell_type": "code",
   "execution_count": null,
   "metadata": {
    "application/vnd.databricks.v1+cell": {
     "cellMetadata": {},
     "inputWidgets": {},
     "nuid": "c55076c2-2a56-4687-9c54-25fdb775d450",
     "showTitle": false,
     "tableResultSettingsMap": {},
     "title": ""
    }
   },
   "outputs": [],
   "source": [
    "%sql\n",
    " -- drop table tmp_nodes;\n",
    " -- drop table tmp_route_shapes;"
   ]
  }
 ],
 "metadata": {
  "application/vnd.databricks.v1+notebook": {
   "computePreferences": {
    "hardware": {
     "accelerator": null,
     "gpuPoolId": null,
     "memory": null
    }
   },
   "dashboards": [],
   "environmentMetadata": null,
   "inputWidgetPreferences": null,
   "language": "python",
   "notebookMetadata": {
    "mostRecentlyExecutedCommandWithImplicitDF": {
     "commandId": 6153931127662611,
     "dataframes": [
      "_sqldf"
     ]
    },
    "pythonIndentUnit": 4
   },
   "notebookName": "import",
   "widgets": {}
  },
  "kernelspec": {
   "display_name": "venv (3.13.3)",
   "language": "python",
   "name": "python3"
  },
  "language_info": {
   "name": "python"
  }
 },
 "nbformat": 4,
 "nbformat_minor": 0
}
