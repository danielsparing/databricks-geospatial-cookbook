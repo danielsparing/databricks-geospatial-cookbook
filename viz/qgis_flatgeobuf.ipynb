{
 "cells": [
  {
   "cell_type": "code",
   "execution_count": 0,
   "metadata": {
    "application/vnd.databricks.v1+cell": {
     "cellMetadata": {
      "byteLimit": 2048000,
      "rowLimit": 10000
     },
     "inputWidgets": {},
     "nuid": "67c3b0d7-03e6-4444-af70-126c554d3341",
     "showTitle": false,
     "tableResultSettingsMap": {},
     "title": ""
    }
   },
   "outputs": [],
   "source": [
    "%pip install duckdb --quiet\n",
    "\n",
    "import duckdb\n",
    "\n",
    "duckdb.sql(\"\"\"install spatial; load spatial\"\"\")"
   ]
  },
  {
   "cell_type": "code",
   "execution_count": 0,
   "metadata": {
    "application/vnd.databricks.v1+cell": {
     "cellMetadata": {
      "byteLimit": 2048000,
      "rowLimit": 10000
     },
     "inputWidgets": {},
     "nuid": "0afa2617-402f-4571-8b9d-7441100ad0ee",
     "showTitle": false,
     "tableResultSettingsMap": {},
     "title": ""
    }
   },
   "outputs": [],
   "source": [
    "TABLE =  # FILL_IN\n",
    "CATALOG =   # FILL_IN\n",
    "SCHEMA =   # FILL_IN\n",
    "WKB_COLUMN =   # FILL_IN\n",
    "VOLUME =  # FILL_IN\n",
    "\n",
    "qgis_export_path = f\"/Volumes/{CATALOG}/{SCHEMA}/{VOLUME}/{TABLE}\"\n",
    "\n",
    "!mkdir -p {qgis_export_path}"
   ]
  },
  {
   "cell_type": "code",
   "execution_count": 0,
   "metadata": {
    "application/vnd.databricks.v1+cell": {
     "cellMetadata": {
      "byteLimit": 2048000,
      "rowLimit": 10000
     },
     "inputWidgets": {},
     "nuid": "fd8ccc61-5ab3-4ccd-8dc4-6b37172d7d59",
     "showTitle": false,
     "tableResultSettingsMap": {},
     "title": ""
    }
   },
   "outputs": [],
   "source": [
    "spark.sql(f\"use {CATALOG}.{SCHEMA}\")\n",
    "\n",
    "dba = spark.table(TABLE).toArrow()"
   ]
  },
  {
   "cell_type": "code",
   "execution_count": 0,
   "metadata": {
    "application/vnd.databricks.v1+cell": {
     "cellMetadata": {
      "byteLimit": 2048000,
      "rowLimit": 10000
     },
     "inputWidgets": {},
     "nuid": "85947caf-e890-43ba-8085-b3516c59d84d",
     "showTitle": false,
     "tableResultSettingsMap": {},
     "title": ""
    }
   },
   "outputs": [],
   "source": [
    "duckdb.sql(f\"\"\"COPY (select\n",
    "  * replace(\n",
    "  st_geomfromwkb(\n",
    "    {WKB_COLUMN}\n",
    "  ) as {WKB_COLUMN}) \n",
    "from\n",
    "  dba) TO '{qgis_export_path}/{TABLE}.fgb' (\n",
    "    FORMAT GDAL,\n",
    "    DRIVER flatgeobuf,\n",
    "    LAYER_CREATION_OPTIONS 'TEMPORARY_DIR=/tmp/'\n",
    ");\n",
    "\"\"\")"
   ]
  }
 ],
 "metadata": {
  "application/vnd.databricks.v1+notebook": {
   "computePreferences": null,
   "dashboards": [],
   "environmentMetadata": {
    "base_environment": "",
    "environment_version": "2"
   },
   "inputWidgetPreferences": null,
   "language": "python",
   "notebookMetadata": {
    "pythonIndentUnit": 4
   },
   "notebookName": "qgis_flatgeobuf",
   "widgets": {}
  },
  "language_info": {
   "name": "python"
  }
 },
 "nbformat": 4,
 "nbformat_minor": 0
}
