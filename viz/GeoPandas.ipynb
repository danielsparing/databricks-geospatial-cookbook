{
 "cells": [
  {
   "cell_type": "markdown",
   "id": "0",
   "metadata": {},
   "source": [
    "# Visualize with GeoPandas\n",
    "\n",
    "While you can use GeoPandas as well to visualize geodata, via Matplotlib, we focus here, on dynamic, _slippy_ maps, such as the ones you can create with [lonboard](lonboard.ipynb) or [PMTiles](PMTiles.ipynb). GeoPandas also integrates with Folium, but we prefer Lonboard."
   ]
  }
 ],
 "metadata": {
  "language_info": {
   "name": "python"
  }
 },
 "nbformat": 4,
 "nbformat_minor": 5
}
