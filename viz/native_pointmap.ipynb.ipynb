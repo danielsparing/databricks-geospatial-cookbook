{
 "cells": [
  {
   "cell_type": "markdown",
   "metadata": {
    "application/vnd.databricks.v1+cell": {
     "cellMetadata": {},
     "inputWidgets": {},
     "nuid": "75e77a81-1e11-4f56-82ef-1d0b49e2f86e",
     "showTitle": false,
     "tableResultSettingsMap": {},
     "title": ""
    }
   },
   "source": [
    "#### Point Map Visualization\n",
    "\n",
    "Point map visualization is natively supported, if your table outputs longitude-latitude pairs. It is recommended to limit the query to not too many rows for performance reasons."
   ]
  },
  {
   "cell_type": "code",
   "execution_count": 0,
   "metadata": {
    "application/vnd.databricks.v1+cell": {
     "cellMetadata": {
      "byteLimit": 2048000,
      "rowLimit": 10000
     },
     "inputWidgets": {},
     "nuid": "13c7dd62-b79b-4a8b-972c-2cabc4d0b6ce",
     "showTitle": false,
     "tableResultSettingsMap": {},
     "title": ""
    }
   },
   "outputs": [],
   "source": [
    "%pip install duckdb --quiet\n",
    "\n",
    "import pandas as pd\n",
    "from pyspark.sql import functions as F\n",
    "from pyspark.sql.types import DoubleType, BinaryType, StringType # \n",
    "\n",
    "def st_duckdb_x_func(a: pd.Series) -> pd.Series:\n",
    "    try:\n",
    "        import duckdb\n",
    "    except ModuleNotFoundError as mfe:\n",
    "        raise Exception(\n",
    "            \"'duckdb' not installed: run '%pip install duckdb' first.\"\n",
    "        ) from mfe\n",
    "\n",
    "    duckdb.sql(\"SET extension_directory = '/tmp/duckdb_ext'\")\n",
    "    try:\n",
    "        duckdb.load_extension(\"spatial\")\n",
    "    except duckdb.duckdb.IOException:\n",
    "        duckdb.install_extension(\"spatial\")\n",
    "        duckdb.load_extension(\"spatial\")\n",
    "\n",
    "    df = pd.DataFrame({\"a\": a})  # noqa: F841\n",
    "\n",
    "    # TODO: rewrite with te Expression API (a la lonboard)\n",
    "    res = duckdb.sql(\n",
    "        \"\"\"\n",
    "select\n",
    "    st_x(st_geomfromwkb(a))::string res\n",
    "from df\"\"\"\n",
    "    ).df()[\"res\"]\n",
    "\n",
    "    return res\n",
    "\n",
    "\n",
    "st_duckdb_x = F.pandas_udf(st_duckdb_x_func, returnType=StringType()) # DoubleType())\n",
    "spark.udf.register(\"st_duckdb_x\", st_duckdb_x)\n",
    "\n",
    "def st_duckdb_y_func(a: pd.Series) -> pd.Series:\n",
    "    try:\n",
    "        import duckdb\n",
    "    except ModuleNotFoundError as mfe:\n",
    "        raise Exception(\n",
    "            \"'duckdb' not installed: run '%pip install duckdb' first.\"\n",
    "        ) from mfe\n",
    "\n",
    "    duckdb.sql(\"SET extension_directory = '/tmp/duckdb_ext'\")\n",
    "    try:\n",
    "        duckdb.load_extension(\"spatial\")\n",
    "    except duckdb.duckdb.IOException:\n",
    "        duckdb.install_extension(\"spatial\")\n",
    "        duckdb.load_extension(\"spatial\")\n",
    "        \n",
    "    df = pd.DataFrame({\"a\": a})  # noqa: F841\n",
    "\n",
    "    # TODO: rewrite with te Expression API (a la lonboard)\n",
    "    res = duckdb.sql(\n",
    "        \"\"\"\n",
    "select\n",
    "    st_y(st_geomfromwkb(a)) res\n",
    "from df\"\"\"\n",
    "    ).df()[\"res\"]\n",
    "\n",
    "    return res\n",
    "\n",
    "\n",
    "st_duckdb_y = F.pandas_udf(st_duckdb_y_func, returnType=DoubleType())\n",
    "spark.udf.register(\"st_duckdb_y\", st_duckdb_y)\n"
   ]
  },
  {
   "cell_type": "code",
   "execution_count": 0,
   "metadata": {
    "application/vnd.databricks.v1+cell": {
     "cellMetadata": {
      "byteLimit": 2048000,
      "rowLimit": 10000
     },
     "inputWidgets": {},
     "nuid": "fbf95545-58f8-4cb9-8b84-ea590417f3d5",
     "showTitle": false,
     "tableResultSettingsMap": {},
     "title": ""
    }
   },
   "outputs": [],
   "source": [
    "spark.read.parquet(\"s3://overturemaps-us-west-2/release/2025-05-21.0/theme=places/type=place\").createOrReplaceTempView(\"place\")"
   ]
  },
  {
   "cell_type": "code",
   "execution_count": 0,
   "metadata": {
    "application/vnd.databricks.v1+cell": {
     "cellMetadata": {
      "byteLimit": 2048000,
      "implicitDf": true,
      "rowLimit": 10000
     },
     "inputWidgets": {},
     "nuid": "4b2b7e78-ee35-4033-875a-203088bd78c5",
     "showTitle": false,
     "tableResultSettingsMap": {},
     "title": ""
    }
   },
   "outputs": [],
   "source": [
    "%sql\n",
    "select\n",
    "  *,\n",
    "  st_duckdb_x(geometry) lon,\n",
    "  st_duckdb_y(geometry) lat\n",
    "from\n",
    "  place\n",
    "where\n",
    "  categories.primary = \"restaurant\"\n",
    "limit 10000\n",
    "-- NOTE: you'll see a bunch of data errors, i.e. lots of restaurants in the Antarctica, but that's data error in the source data."
   ]
  },
  {
   "cell_type": "markdown",
   "metadata": {
    "application/vnd.databricks.v1+cell": {
     "cellMetadata": {},
     "inputWidgets": {},
     "nuid": "3b757f92-106d-478b-ab2b-1069be42b559",
     "showTitle": false,
     "tableResultSettingsMap": {},
     "title": ""
    }
   },
   "source": [
    "![point map](./img/point_map.png)"
   ]
  }
 ],
 "metadata": {
  "application/vnd.databricks.v1+notebook": {
   "computePreferences": null,
   "dashboards": [],
   "environmentMetadata": {
    "base_environment": "",
    "environment_version": "2"
   },
   "inputWidgetPreferences": null,
   "language": "python",
   "notebookMetadata": {
    "mostRecentlyExecutedCommandWithImplicitDF": {
     "commandId": 6898392798905739,
     "dataframes": [
      "_sqldf"
     ]
    },
    "pythonIndentUnit": 4
   },
   "notebookName": "native_pointmap.ipynb",
   "widgets": {}
  },
  "language_info": {
   "name": "python"
  }
 },
 "nbformat": 4,
 "nbformat_minor": 0
}
