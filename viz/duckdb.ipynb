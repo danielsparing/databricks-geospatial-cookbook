{
 "cells": [
  {
   "cell_type": "markdown",
   "metadata": {
    "application/vnd.databricks.v1+cell": {
     "cellMetadata": {
      "byteLimit": 2048000,
      "rowLimit": 10000
     },
     "inputWidgets": {},
     "nuid": "164c68b0-f789-42fc-a89c-87553d660150",
     "showTitle": false,
     "tableResultSettingsMap": {},
     "title": ""
    }
   },
   "source": [
    "::: {.callout-note}\n",
    "\n",
    "We are using Spatial Functions and the GEOMETRY data type below, and as of 2025-07-16, you need to use Databricks Runtime 17.1+ for this. It is expected that this feature becomes available on Serverless Compute and DBSQL as well soon, see [here](https://www.linkedin.com/feed/update/urn:li:activity:7351276934338641920/).\n",
    "\n",
    ":::"
   ]
  },
  {
   "cell_type": "code",
   "execution_count": null,
   "metadata": {
    "application/vnd.databricks.v1+cell": {
     "cellMetadata": {
      "byteLimit": 2048000,
      "rowLimit": 10000
     },
     "inputWidgets": {},
     "nuid": "7c54c560-1695-4a7d-887f-acc5ec3746c7",
     "showTitle": false,
     "tableResultSettingsMap": {},
     "title": ""
    }
   },
   "outputs": [],
   "source": [
    "%pip install duckdb lonboard shapely --quiet\n",
    "import duckdb\n",
    "from lonboard import viz"
   ]
  },
  {
   "cell_type": "code",
   "execution_count": null,
   "metadata": {
    "application/vnd.databricks.v1+cell": {
     "cellMetadata": {
      "byteLimit": 2048000,
      "rowLimit": 10000
     },
     "inputWidgets": {},
     "nuid": "8498085f-2ab3-40e6-93b8-007eaad5d008",
     "showTitle": false,
     "tableResultSettingsMap": {},
     "title": ""
    }
   },
   "outputs": [],
   "source": [
    "HTTP_BLOCKED = True\n",
    "\n",
    "if HTTP_BLOCKED:\n",
    "    import os\n",
    "    from urllib.parse import urlparse\n",
    "\n",
    "    import requests\n",
    "\n",
    "    ARCHITECTURE = \"linux_amd64\"\n",
    "    duckdb_version = duckdb.__version__\n",
    "    url = f\"https://extensions.duckdb.org/v{duckdb_version}/{ARCHITECTURE}/httpfs.duckdb_extension.gz\"\n",
    "\n",
    "    output_file = os.path.basename(urlparse(url).path)\n",
    "    response = requests.get(url, timeout=30)\n",
    "    response.raise_for_status()\n",
    "    with open(output_file, \"wb\") as f:\n",
    "        f.write(response.content)\n",
    "\n",
    "    duckdb.install_extension(output_file)\n",
    "\n",
    "    os.remove(output_file)\n",
    "\n",
    "    duckdb.sql(\"SET custom_extension_repository='https://extensions.duckdb.org'\")"
   ]
  },
  {
   "cell_type": "code",
   "execution_count": null,
   "metadata": {
    "application/vnd.databricks.v1+cell": {
     "cellMetadata": {
      "byteLimit": 2048000,
      "rowLimit": 10000
     },
     "inputWidgets": {},
     "nuid": "da737cbe-11df-4944-9e48-b6a241ad498e",
     "showTitle": false,
     "tableResultSettingsMap": {},
     "title": ""
    }
   },
   "outputs": [],
   "source": [
    "duckdb.sql(\"install spatial; load spatial\")"
   ]
  },
  {
   "cell_type": "code",
   "execution_count": null,
   "metadata": {
    "application/vnd.databricks.v1+cell": {
     "cellMetadata": {
      "byteLimit": 2048000,
      "implicitDf": true,
      "rowLimit": 10000
     },
     "inputWidgets": {},
     "nuid": "439db71b-2e04-4862-8c94-c914602d3335",
     "showTitle": false,
     "tableResultSettingsMap": {},
     "title": ""
    }
   },
   "outputs": [],
   "source": [
    "%sql\n",
    "create\n",
    "or replace table tmp_geometries as\n",
    "select\n",
    "  \"Onze Lieve Vrouwetoren\" as name,\n",
    "  st_transform(st_point(155000, 463000, 28992), 4326) as geometry\n",
    "union all\n",
    "select\n",
    "  \"Bermuda Triangle\" as name,\n",
    "  st_makepolygon(\n",
    "    st_makeline(\n",
    "      array(\n",
    "        st_point(- 80.1935973, 25.7741566, 4326),\n",
    "        st_point(- 64.7563086, 32.3040273, 4326),\n",
    "        st_point(- 66.1166669, 18.4653003, 4326),\n",
    "        st_point(- 80.1935973, 25.7741566, 4326)\n",
    "      )\n",
    "    )\n",
    "  ) as geometry;\n",
    "\n",
    "select\n",
    "  *\n",
    "from\n",
    "  tmp_geometries"
   ]
  },
  {
   "cell_type": "code",
   "execution_count": null,
   "metadata": {
    "application/vnd.databricks.v1+cell": {
     "cellMetadata": {
      "byteLimit": 2048000,
      "rowLimit": 10000
     },
     "inputWidgets": {},
     "nuid": "e207f90e-4e4c-4695-a6b7-30423f494e09",
     "showTitle": false,
     "tableResultSettingsMap": {},
     "title": ""
    }
   },
   "outputs": [],
   "source": [
    "dfa = spark.table(\"tmp_geometries\").limit(10_000).toArrow()"
   ]
  },
  {
   "cell_type": "markdown",
   "metadata": {
    "application/vnd.databricks.v1+cell": {
     "cellMetadata": {},
     "inputWidgets": {},
     "nuid": "e6ad7f4b-5d20-420e-bc0c-810ca3b27473",
     "showTitle": false,
     "tableResultSettingsMap": {},
     "title": ""
    }
   },
   "source": [
    "(In the below example, if the SRID is 4326, then the `st_transform` is redundant.)"
   ]
  },
  {
   "cell_type": "code",
   "execution_count": null,
   "metadata": {
    "application/vnd.databricks.v1+cell": {
     "cellMetadata": {
      "byteLimit": 2048000,
      "rowLimit": 10000
     },
     "inputWidgets": {},
     "nuid": "d3fa5797-4074-4b4a-9940-7635086c6b7f",
     "showTitle": false,
     "tableResultSettingsMap": {},
     "title": ""
    }
   },
   "outputs": [],
   "source": [
    "query = duckdb.sql(\"\"\"\n",
    "select\n",
    "    * replace(st_transform(\n",
    "        st_geomfromwkb(geometry.wkb),\n",
    "        concat('EPSG:', geometry.srid),\n",
    "        'OGC:CRS84'\n",
    "    ) as geometry)\n",
    "from dfa\"\"\")\n",
    "query"
   ]
  },
  {
   "cell_type": "code",
   "execution_count": null,
   "metadata": {
    "application/vnd.databricks.v1+cell": {
     "cellMetadata": {
      "byteLimit": 2048000,
      "rowLimit": 10000
     },
     "inputWidgets": {},
     "nuid": "7e1e5e20-6ffd-4739-960a-a15e049b9a67",
     "showTitle": false,
     "tableResultSettingsMap": {},
     "title": ""
    }
   },
   "outputs": [],
   "source": [
    "viz(query).as_html()"
   ]
  },
  {
   "cell_type": "code",
   "execution_count": null,
   "metadata": {
    "application/vnd.databricks.v1+cell": {
     "cellMetadata": {
      "byteLimit": 2048000,
      "rowLimit": 10000
     },
     "inputWidgets": {},
     "nuid": "2e6e2fe3-8e50-4c79-8024-89319fb80922",
     "showTitle": false,
     "tableResultSettingsMap": {},
     "title": ""
    }
   },
   "outputs": [],
   "source": []
  }
 ],
 "metadata": {
  "application/vnd.databricks.v1+notebook": {
   "computePreferences": null,
   "dashboards": [],
   "environmentMetadata": {
    "base_environment": "",
    "environment_version": "2"
   },
   "inputWidgetPreferences": null,
   "language": "python",
   "notebookMetadata": {
    "mostRecentlyExecutedCommandWithImplicitDF": {
     "commandId": 8867244212528927,
     "dataframes": [
      "_sqldf"
     ]
    },
    "pythonIndentUnit": 4
   },
   "notebookName": "duckdb",
   "widgets": {}
  },
  "language_info": {
   "name": "python"
  }
 },
 "nbformat": 4,
 "nbformat_minor": 0
}
