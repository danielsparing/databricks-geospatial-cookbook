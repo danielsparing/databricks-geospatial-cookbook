{
 "cells": [
  {
   "cell_type": "markdown",
   "id": "0",
   "metadata": {},
   "source": [
    "# Visualize with PMTiles\n",
    "\n",
    "PMTiles (a tileserver in the form of a single file, read with Range Requests) is a powerful way to visualize very large datasets, see https://pmtiles.io . The key tool to generate one is [tippecanoe](https://github.com/felt/tippecanoe).\n",
    "\n",
    "See the [end-to-end example](../end2end/train_to_slopes.ipynb) for a PMTiles generation and visualization example.\n",
    "\n",
    "![railnetwork](../end2end/img/railnetwork.png)"
   ]
  },
  {
   "cell_type": "markdown",
   "id": "1",
   "metadata": {},
   "source": []
  }
 ],
 "metadata": {
  "language_info": {
   "name": "python"
  }
 },
 "nbformat": 4,
 "nbformat_minor": 5
}
