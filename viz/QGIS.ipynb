{
 "cells": [
  {
   "cell_type": "markdown",
   "id": "0",
   "metadata": {},
   "source": [
    "# Visualizing Delta Lake geospatial data in QGIS\n",
    "\n",
    "Few pointers:\n",
    "- For moderate data sizes, the simplest way is to download your data in a [format](../export.ipynb) of your liking such as GeoParquet, GeoPackage, FlatGeobuf or similar.\n",
    "- For large datasets, see in the [FlatGeobuf section](../export.ipynb) how you can stream a FlatGeobuf file from Databricks volumes into QGIS.\n"
   ]
  }
 ],
 "metadata": {
  "language_info": {
   "name": "python"
  }
 },
 "nbformat": 4,
 "nbformat_minor": 5
}
