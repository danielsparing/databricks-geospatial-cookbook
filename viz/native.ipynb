{
 "cells": [
  {
   "cell_type": "markdown",
   "metadata": {
    "application/vnd.databricks.v1+cell": {
     "cellMetadata": {
      "byteLimit": 2048000,
      "rowLimit": 10000
     },
     "inputWidgets": {},
     "nuid": "75e77a81-1e11-4f56-82ef-1d0b49e2f86e",
     "showTitle": false,
     "tableResultSettingsMap": {},
     "title": ""
    }
   },
   "source": [
    "# Native Point Map Visualization\n",
    "\n",
    "Point map visualization is natively supported, if your table outputs longitude-latitude pairs. It is recommended to limit the query to not too many rows for performance reasons.\n",
    "\n",
    "::: {.callout-note}\n",
    "\n",
    "Make sure you are using [Serverless environment version 4+](https://docs.databricks.com/aws/en/release-notes/serverless/environment-version/four), or else outputting GEOMETRY/GEOGRAPHY types directly (without e.g. `st_asewkt()`) will not work.\n",
    "\n",
    ":::"
   ]
  },
  {
   "cell_type": "code",
   "execution_count": null,
   "metadata": {
    "application/vnd.databricks.v1+cell": {
     "cellMetadata": {
      "byteLimit": 2048000,
      "rowLimit": 10000
     },
     "inputWidgets": {},
     "nuid": "634c8df0-c7fe-47f5-b8a4-43d7e1584ae6",
     "showTitle": false,
     "tableResultSettingsMap": {},
     "title": ""
    }
   },
   "outputs": [],
   "source": [
    "%pip install \"databricks-connect>=17.1.0\" --quiet\n",
    "%restart_python"
   ]
  },
  {
   "cell_type": "code",
   "execution_count": null,
   "metadata": {
    "application/vnd.databricks.v1+cell": {
     "cellMetadata": {
      "byteLimit": 2048000,
      "implicitDf": true,
      "rowLimit": 10000
     },
     "inputWidgets": {},
     "nuid": "fbf95545-58f8-4cb9-8b84-ea590417f3d5",
     "showTitle": false,
     "tableResultSettingsMap": {},
     "title": ""
    }
   },
   "outputs": [],
   "source": [
    "%sql\n",
    "create or replace table tmp_geometries as\n",
    "select\n",
    "  \"Onze Lieve Vrouwetoren\" as name,\n",
    "  st_transform(st_point(155000, 463000, 28992), 4326) as geometry\n",
    "union all\n",
    "select\n",
    "  \"Bermuda Triangle\" as name,\n",
    "  st_makepolygon(\n",
    "    st_makeline(\n",
    "      array(\n",
    "        st_point(- 80.1935973, 25.7741566, 4326),\n",
    "        st_point(- 64.7563086, 32.3040273, 4326),\n",
    "        st_point(- 66.1166669, 18.4653003, 4326),\n",
    "        st_point(- 80.1935973, 25.7741566, 4326)\n",
    "      )\n",
    "    )\n",
    "  ) as geometry;\n",
    "\n",
    "from\n",
    "  tmp_geometries\n",
    "-- Returns:\n",
    "-- name\tgeometry\n",
    "-- Bermuda Triangle\tSRID=4326;POLYGON((-80.1935973 25.7741566,-64.7563086 32.3040273,-66.1166669 18.4653003,-80.1935973 25.7741566))\n",
    "-- Onze Lieve Vrouwetoren\tSRID=4326;POINT(5.3872035084137675 52.15517230119224)"
   ]
  },
  {
   "cell_type": "markdown",
   "metadata": {
    "application/vnd.databricks.v1+cell": {
     "cellMetadata": {
      "byteLimit": 2048000,
      "rowLimit": 10000
     },
     "inputWidgets": {},
     "nuid": "7a4d2739-2a7c-4c3a-af06-3fcda0833380",
     "showTitle": false,
     "tableResultSettingsMap": {},
     "title": ""
    }
   },
   "source": [
    "Our example table contains not only points, but the native visualization can only show points, so one thing we can do is to show the centroids.\n",
    "\n",
    "In the above example, the SRID happens to be 4326, therefore the below `st_transform` is a unnecessary. In general, however, you'd want to transform the geometries to 4326 in order to obtain valid `(lon, lat)` tuples."
   ]
  },
  {
   "cell_type": "code",
   "execution_count": null,
   "metadata": {
    "application/vnd.databricks.v1+cell": {
     "cellMetadata": {
      "byteLimit": 2048000,
      "implicitDf": true,
      "rowLimit": 10000
     },
     "inputWidgets": {},
     "nuid": "c24b0bb6-c531-463e-b76d-59c3bbf542cd",
     "showTitle": false,
     "tableResultSettingsMap": {},
     "title": ""
    }
   },
   "outputs": [],
   "source": [
    "%sql\n",
    "with t as (\n",
    "  select\n",
    "    name,\n",
    "    st_transform(st_centroid(geometry), 4326) centroid,\n",
    "    st_x(centroid) lon,\n",
    "    st_y(centroid) lat\n",
    "  from\n",
    "    tmp_geometries\n",
    ")\n",
    "from\n",
    "  t"
   ]
  },
  {
   "cell_type": "markdown",
   "metadata": {
    "application/vnd.databricks.v1+cell": {
     "cellMetadata": {
      "byteLimit": 2048000,
      "rowLimit": 10000
     },
     "inputWidgets": {},
     "nuid": "00c98ee0-243d-4bfa-b334-38fb6de2604d",
     "showTitle": false,
     "tableResultSettingsMap": {},
     "title": ""
    }
   },
   "source": [
    "Once the result above is shown, click on the `+` icon right of the `Table` tab to add the visualization \"Map (Markers)\" such as the one shown on the below image.\n",
    "\n",
    "![native_pointmap](img/native_pointmap.png)\n",
    "\n",
    "For another, larger example of native map visualization, see [the Overture example used in the DuckDB notebook](../duckdb-on-databricks/DuckDB_on_Databricks.ipynb)."
   ]
  }
 ],
 "metadata": {
  "application/vnd.databricks.v1+notebook": {
   "computePreferences": {
    "hardware": {
     "accelerator": null,
     "gpuPoolId": null,
     "memory": null
    }
   },
   "dashboards": [],
   "environmentMetadata": {
    "base_environment": "",
    "environment_version": "4"
   },
   "inputWidgetPreferences": null,
   "language": "python",
   "notebookMetadata": {
    "mostRecentlyExecutedCommandWithImplicitDF": {
     "commandId": 7522126500846053,
     "dataframes": [
      "_sqldf"
     ]
    },
    "pythonIndentUnit": 4
   },
   "notebookName": "native",
   "widgets": {}
  },
  "language_info": {
   "name": "python"
  }
 },
 "nbformat": 4,
 "nbformat_minor": 0
}
