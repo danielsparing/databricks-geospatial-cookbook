{
 "cells": [
  {
   "cell_type": "markdown",
   "metadata": {
    "application/vnd.databricks.v1+cell": {
     "cellMetadata": {},
     "inputWidgets": {},
     "nuid": "1f6bd6b2-a7a6-430d-9021-5234be3f5124",
     "showTitle": false,
     "tableResultSettingsMap": {},
     "title": ""
    }
   },
   "source": [
    "# Visualize a geospatial Delta Lake table with Lonboard"
   ]
  },
  {
   "cell_type": "markdown",
   "metadata": {
    "application/vnd.databricks.v1+cell": {
     "cellMetadata": {},
     "inputWidgets": {},
     "nuid": "566f74dd-c3f6-423c-8ee9-962bc337422d",
     "showTitle": false,
     "tableResultSettingsMap": {},
     "title": ""
    }
   },
   "source": [
    "::: {.callout-note}\n",
    "\n",
    "Tested on Serverless environment version 2. Note that on version 3, the widget size limit is lower, so can visualize fewer rows.\n",
    "\n",
    ":::\n",
    "\n",
    "::: {.callout-note}\n",
    "\n",
    "The below example uses a column where the geometries are stored as [WKB in a BINARY column](../delta/WKB). If you have a table using the newer GEOMETRY or GEOGRAPHY types, you can use the same logic but first use `st_asbinary()`, as well as `st_transform(..., ..., 4326)` as needed.\n",
    "\n",
    ":::\n",
    "\n",
    "[Lonboard](https://developmentseed.org/lonboard/latest/) is an excellent tool to visualize geospatial data via Arrow or [DuckDB](../duckdb-on-databricks/DuckDB_on_Databricks.ipynb). While it cannot visualize as large datasets as you can with using [streaming Flatgeobuf or PMTiles](../other_formats/export.ipynb), it can go far -- theoretically the driver's memory, your browser's memory and your network is the limit. On Databricks, however, there is a quite frugal limit for the sizes of widgets, so we'll have to limit the sample dataset a bit more, or you can generate a separate HTML file instead."
   ]
  },
  {
   "cell_type": "code",
   "execution_count": 0,
   "metadata": {
    "application/vnd.databricks.v1+cell": {
     "cellMetadata": {
      "byteLimit": 2048000,
      "rowLimit": 10000
     },
     "inputWidgets": {},
     "nuid": "59a10374-fa62-4124-bbe4-1763b60fbe4d",
     "showTitle": false,
     "tableResultSettingsMap": {},
     "title": ""
    }
   },
   "outputs": [],
   "source": [
    "%pip install duckdb lonboard shapely --quiet"
   ]
  },
  {
   "cell_type": "code",
   "execution_count": 0,
   "metadata": {
    "application/vnd.databricks.v1+cell": {
     "cellMetadata": {
      "byteLimit": 2048000,
      "rowLimit": 10000
     },
     "inputWidgets": {},
     "nuid": "fdc0d775-545a-417a-a785-3f344d3f7447",
     "showTitle": false,
     "tableResultSettingsMap": {},
     "title": ""
    }
   },
   "outputs": [],
   "source": [
    "def spark_viz(df, wkb_col=\"geometry\", other_cols=None, limit=10_000, output_html=None):\n",
    "    # needs `%pip install duckdb lonboard shapely`\n",
    "\n",
    "    if other_cols is None:\n",
    "        other_cols = []\n",
    "\n",
    "    import duckdb\n",
    "    from lonboard import viz\n",
    "\n",
    "    try:\n",
    "        duckdb.load_extension(\"spatial\")\n",
    "    except duckdb.duckdb.IOException:\n",
    "        duckdb.install_extension(\"spatial\")\n",
    "        duckdb.load_extension(\"spatial\")\n",
    "\n",
    "    dfa = df.select([wkb_col] + other_cols).limit(limit).toArrow()\n",
    "    if dfa.num_rows == limit:\n",
    "        print(f\"Data truncated to limit {limit}\")\n",
    "\n",
    "    query = duckdb.sql(\n",
    "        f\"\"\"select * replace (st_geomfromwkb({wkb_col}) as {wkb_col})\n",
    "        from dfa\n",
    "        where {wkb_col} is not null\"\"\"\n",
    "    )\n",
    "    if output_html is None:\n",
    "        return viz(query).as_html()\n",
    "    else:\n",
    "        viz(query).to_html(output_html)\n",
    "        return output_html"
   ]
  },
  {
   "cell_type": "markdown",
   "metadata": {
    "application/vnd.databricks.v1+cell": {
     "cellMetadata": {},
     "inputWidgets": {},
     "nuid": "c4eb313d-40d7-4844-8f33-3050dca3d2ef",
     "showTitle": false,
     "tableResultSettingsMap": {},
     "title": ""
    }
   },
   "source": [
    "## In-notebook widget example\n",
    "\n",
    "Note that we use quite conservative limits, only a few hundred polygons -- for vizualising more, see the HTML export option below.\n",
    "\n",
    "::: {.callout.note}\n",
    "\n",
    "If you don't have the below Overture Maps catalog visible from your workspace yet, add it via the [Marketplace](https://marketplace.databricks.com/provider/dd56dcf4-cb70-449e-abad-c8038c0de3d9/CARTO).\n",
    "\n",
    ":::"
   ]
  },
  {
   "cell_type": "code",
   "execution_count": 0,
   "metadata": {
    "application/vnd.databricks.v1+cell": {
     "cellMetadata": {
      "byteLimit": 2048000,
      "rowLimit": 10000
     },
     "inputWidgets": {},
     "nuid": "6d885abf-ada7-4fc2-9e6d-9d1cb7fa4af2",
     "showTitle": false,
     "tableResultSettingsMap": {},
     "title": ""
    }
   },
   "outputs": [],
   "source": [
    "# Example dataset: Municipalities in the Netherlands via Overture Maps\n",
    "df = (\n",
    "    spark.table(\"carto_overture_maps_divisions.carto.division_area\")\n",
    "    .selectExpr(\"geometry\", \"names:primary::string as name\")\n",
    "    .where(\"\"\"country = 'NL' and subtype='county'\"\"\")\n",
    ")\n",
    "\n",
    "spark_viz(df, wkb_col=\"geometry\", other_cols=[\"name\"], limit=1000)"
   ]
  },
  {
   "cell_type": "markdown",
   "metadata": {
    "application/vnd.databricks.v1+cell": {
     "cellMetadata": {},
     "inputWidgets": {},
     "nuid": "ef3d5857-9904-4598-bf4f-e54425473d9c",
     "showTitle": false,
     "tableResultSettingsMap": {},
     "title": ""
    }
   },
   "source": [
    "\n",
    "![lonboard](img/lonboard.png)\n",
    "\n",
    "If all went well and you see data on the map: note that you can not just zoom and pan, but can also click on a polygon to see the value of the non-geometry column(s).\n",
    "\n",
    "::: {.callout-note}\n",
    "\n",
    "If you receive the error:\n",
    "\n",
    "```\n",
    "Command result size exceeds limit: Exceeded XXXX bytes (current = XXXX)\n",
    "```\n",
    "\n",
    "Then you need to reduce your `LIMIT` or tighten your filter.\n",
    "\n",
    ":::"
   ]
  },
  {
   "cell_type": "markdown",
   "metadata": {
    "application/vnd.databricks.v1+cell": {
     "cellMetadata": {},
     "inputWidgets": {},
     "nuid": "4b4ae9f6-6588-4c25-b615-e81c8503bacd",
     "showTitle": false,
     "tableResultSettingsMap": {},
     "title": ""
    }
   },
   "source": [
    "## Export to HTML\n",
    "\n",
    "To see much more data at the same time (than what fits within Databricks' widget size limits), we can generate a HTML file to a Volume, download and open that file. If you want to avoid downloading, you could serve it via Databricks Apps instead, see [the html-viewer app here](../apps/databricks_apps.ipynb) -- note, however, the the data to visualize still needs to travel through the network to your browser anyway.\n",
    "\n",
    "You will see that you can use this method to generate HTML files of hundreds of megabytes -- so then the limit becomes your _local_ memory for what your browser can open."
   ]
  },
  {
   "cell_type": "code",
   "execution_count": 0,
   "metadata": {
    "application/vnd.databricks.v1+cell": {
     "cellMetadata": {
      "byteLimit": 2048000,
      "rowLimit": 10000
     },
     "inputWidgets": {},
     "nuid": "fe75d295-4f2e-4269-8c82-9652e75bdbe9",
     "showTitle": false,
     "tableResultSettingsMap": {},
     "title": ""
    }
   },
   "outputs": [],
   "source": [
    "df = (\n",
    "    spark.table(\"carto_overture_maps_divisions.carto.division_area\")\n",
    "    .selectExpr(\"geometry\", \"names:primary::string as name\")\n",
    "    .where(\n",
    "        \"\"\"\n",
    "           country in ('BE', 'NL', 'LU', 'DE', 'FR', 'PL', 'CZ', 'SK', 'CH')\n",
    "           and subtype='county'\"\"\"\n",
    "    )\n",
    "    .orderBy(\"name\")  # just to make the results reproducible\n",
    ")\n",
    "\n",
    "\n",
    "spark_viz(\n",
    "    df,\n",
    "    wkb_col=\"geometry\",\n",
    "    other_cols=[\"name\"],\n",
    "    limit=100_000,\n",
    "    output_html=\"/Volumes/workspace/default/default/output.html\",\n",
    ")"
   ]
  },
  {
   "cell_type": "markdown",
   "metadata": {
    "application/vnd.databricks.v1+cell": {
     "cellMetadata": {},
     "inputWidgets": {},
     "nuid": "1abf8460-4183-4b5c-b206-63e388eb0d52",
     "showTitle": false,
     "tableResultSettingsMap": {},
     "title": ""
    }
   },
   "source": [
    "Downloading the above html and opening it, we can see much more data than what fits into an inline widget:\n",
    "\n",
    "![lonboard html](img/lonboard_html.png)"
   ]
  }
 ],
 "metadata": {
  "application/vnd.databricks.v1+notebook": {
   "computePreferences": {
    "hardware": {
     "accelerator": null,
     "gpuPoolId": null,
     "memory": "HIGH"
    }
   },
   "dashboards": [],
   "environmentMetadata": {
    "base_environment": "",
    "environment_version": "2"
   },
   "inputWidgetPreferences": null,
   "language": "python",
   "notebookMetadata": {
    "pythonIndentUnit": 4
   },
   "notebookName": "lonboard",
   "widgets": {}
  },
  "language_info": {
   "name": "python"
  }
 },
 "nbformat": 4,
 "nbformat_minor": 0
}
