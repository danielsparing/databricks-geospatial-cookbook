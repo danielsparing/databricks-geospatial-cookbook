{
 "cells": [
  {
   "cell_type": "markdown",
   "metadata": {
    "application/vnd.databricks.v1+cell": {
     "cellMetadata": {},
     "inputWidgets": {},
     "nuid": "1f6bd6b2-a7a6-430d-9021-5234be3f5124",
     "showTitle": false,
     "tableResultSettingsMap": {},
     "title": ""
    }
   },
   "source": [
    "# Visualize a geospatial Delta Lake table with Lonboard"
   ]
  },
  {
   "cell_type": "markdown",
   "metadata": {
    "application/vnd.databricks.v1+cell": {
     "cellMetadata": {},
     "inputWidgets": {},
     "nuid": "566f74dd-c3f6-423c-8ee9-962bc337422d",
     "showTitle": false,
     "tableResultSettingsMap": {},
     "title": ""
    }
   },
   "source": [
    "::: {.callout-note}\n",
    "\n",
    "The below example uses a column where the geometries are stored as WKB in a BINARY column. If you have a table using the newer GEOMETRY or GEOGRAPHY types, you can use the same logic but first use `st_asbinary()`, as well as `st_transform(..., ..., 4326)` as needed.\n",
    "\n",
    ":::\n",
    "\n",
    "[Lonboard](https://developmentseed.org/lonboard/latest/) is an excellent tool to visualize geospatial data via Arrow or [DuckDB](../duckdb-on-databricks/DuckDB_on_Databricks.ipynb). While it cannot visualize as large datasets as you can with using [streaming Flatgeobuf or PMTiles](../other_formats/export.ipynb), it can go far -- theoretically your browser's memory (and your network) is the limit. On Databricks, however, there is a quite frugal limit for the sizes of widgets, so we'll have to limit the sample dataset a bit more."
   ]
  },
  {
   "cell_type": "code",
   "execution_count": 0,
   "metadata": {
    "application/vnd.databricks.v1+cell": {
     "cellMetadata": {
      "byteLimit": 2048000,
      "rowLimit": 10000
     },
     "inputWidgets": {},
     "nuid": "59a10374-fa62-4124-bbe4-1763b60fbe4d",
     "showTitle": false,
     "tableResultSettingsMap": {},
     "title": ""
    }
   },
   "outputs": [],
   "source": [
    "%pip install duckdb lonboard shapely --quiet"
   ]
  },
  {
   "cell_type": "code",
   "execution_count": 0,
   "metadata": {
    "application/vnd.databricks.v1+cell": {
     "cellMetadata": {
      "byteLimit": 2048000,
      "rowLimit": 10000
     },
     "inputWidgets": {},
     "nuid": "7b0acae0-1e3d-482c-bbdf-200c079ac5bb",
     "showTitle": false,
     "tableResultSettingsMap": {},
     "title": ""
    }
   },
   "outputs": [],
   "source": [
    "LIMIT = 100_000\n",
    "WKB_COL = 'geometry'"
   ]
  },
  {
   "cell_type": "code",
   "execution_count": 0,
   "metadata": {
    "application/vnd.databricks.v1+cell": {
     "cellMetadata": {
      "byteLimit": 2048000,
      "rowLimit": 10000
     },
     "inputWidgets": {},
     "nuid": "6d885abf-ada7-4fc2-9e6d-9d1cb7fa4af2",
     "showTitle": false,
     "tableResultSettingsMap": {},
     "title": ""
    }
   },
   "outputs": [],
   "source": [
    "import duckdb\n",
    "from lonboard import viz\n",
    "\n",
    "duckdb.sql(\"install spatial; load spatial\")\n",
    "\n",
    "dfa = (\n",
    "    spark.table(\"carto_overture_maps_divisions.carto.division_area\")\n",
    "    .selectExpr(WKB_COL, \"names:primary::string as name\")\n",
    "    .where(\n",
    "        \"\"\"country='NL' and subtype='county'\"\"\"\n",
    "    )\n",
    "    .limit(LIMIT)\n",
    "    .toArrow()\n",
    ")\n",
    "\n",
    "if dfa.num_rows == LIMIT:\n",
    "    print(\"WARNING: LIMIT reached, consider using a tighter `where()` filter\")\n",
    "\n",
    "query = duckdb.sql(\n",
    "    f\"select * replace (st_geomfromwkb({WKB_COL}) as {WKB_COL}) from dfa\"\n",
    ")\n",
    "m = viz(query)\n",
    "m.as_html()"
   ]
  },
  {
   "cell_type": "markdown",
   "metadata": {
    "application/vnd.databricks.v1+cell": {
     "cellMetadata": {},
     "inputWidgets": {},
     "nuid": "ef3d5857-9904-4598-bf4f-e54425473d9c",
     "showTitle": false,
     "tableResultSettingsMap": {},
     "title": ""
    }
   },
   "source": [
    "\n",
    "![lonboard](img/lonboard.png)\n",
    "\n",
    "If all went well and you see data on the map: note that you can not just zoom and pan, but can also click on a polygon to see the value of the non-geometry column(s).\n",
    "\n",
    "::: {.callout-note}\n",
    "\n",
    "If you receive the error:\n",
    "\n",
    "```\n",
    "Command result size exceeds limit: Exceeded XXXX bytes (current = XXXX)\n",
    "```\n",
    "\n",
    "Then you need to reduce your `LIMIT` or tighten your filter. Also consider filtering only for the columns you actually need (besides the geometry column, of course).\n",
    "\n",
    ":::"
   ]
  }
 ],
 "metadata": {
  "application/vnd.databricks.v1+notebook": {
   "computePreferences": null,
   "dashboards": [],
   "environmentMetadata": null,
   "inputWidgetPreferences": null,
   "language": "python",
   "notebookMetadata": {
    "pythonIndentUnit": 4
   },
   "notebookName": "lonboard",
   "widgets": {}
  },
  "language_info": {
   "name": "python"
  }
 },
 "nbformat": 4,
 "nbformat_minor": 0
}
