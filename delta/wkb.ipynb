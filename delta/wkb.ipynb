{
 "cells": [
  {
   "cell_type": "markdown",
   "metadata": {
    "application/vnd.databricks.v1+cell": {
     "cellMetadata": {},
     "inputWidgets": {},
     "nuid": "b953f008-332a-4a1b-a7b3-cea39a76ad1c",
     "showTitle": false,
     "tableResultSettingsMap": {},
     "title": ""
    }
   },
   "source": [
    "# Storing spatial data in Delta Lake as WKB\n",
    "\n",
    "You can store geometry or geography data in a Delta Lake table in a [BINARY](https://docs.databricks.com/aws/en/sql/language-manual/data-types/binary-type) column as [Well-known binary](https://en.wikipedia.org/wiki/Well-known_text_representation_of_geometry#Well-known_binary) (WKB or EWKB). This is a more compact representation than well-known text (WKT), and widely supported incl. in the Geoparquet specification. On the other hand, unlike the newer [GEOMETRY](https://docs.databricks.com/aws/en/sql/language-manual/data-types/geometry-type) and GEOGRAPHY types, there is no higher level semantic support possible such as automatic spatial indexing (as of Aug 2025, coming soon). Also, you need to use the conversion function [st_geomfromwkb](https://docs.databricks.com/gcp/en/sql/language-manual/functions/st_geomfromwkb) or [st_geomfromwekb](https://docs.databricks.com/gcp/en/sql/language-manual/functions/st_geomfromewkb) before any other ST function."
   ]
  },
  {
   "cell_type": "code",
   "execution_count": null,
   "metadata": {
    "application/vnd.databricks.v1+cell": {
     "cellMetadata": {
      "byteLimit": 2048000,
      "implicitDf": true,
      "rowLimit": 10000
     },
     "inputWidgets": {},
     "nuid": "b7ff4077-cee0-437d-8a81-16473b13f6c1",
     "showTitle": false,
     "tableResultSettingsMap": {},
     "title": ""
    }
   },
   "outputs": [],
   "source": [
    "%sql\n",
    "create temporary view t_ewkb as\n",
    "select st_asewkb(st_point(3,0,4326)) wkb_geometry"
   ]
  },
  {
   "cell_type": "code",
   "execution_count": null,
   "metadata": {
    "application/vnd.databricks.v1+cell": {
     "cellMetadata": {
      "byteLimit": 2048000,
      "implicitDf": true,
      "rowLimit": 10000
     },
     "inputWidgets": {},
     "nuid": "c33be0d2-99fd-4eb1-9bc6-5b75aa358a52",
     "showTitle": false,
     "tableResultSettingsMap": {},
     "title": ""
    }
   },
   "outputs": [],
   "source": [
    "%sql\n",
    "select\n",
    "  st_geomfromewkb(wkb_geometry),\n",
    "  wkb_geometry\n",
    "from\n",
    "  t_ewkb"
   ]
  },
  {
   "cell_type": "markdown",
   "metadata": {
    "application/vnd.databricks.v1+cell": {
     "cellMetadata": {},
     "inputWidgets": {},
     "nuid": "36e8eeb3-313f-455f-beeb-a36b62e8945c",
     "showTitle": false,
     "tableResultSettingsMap": {},
     "title": ""
    }
   },
   "source": [
    "Another example of Delta Lake tables with WKB columns are the [Overture Maps datasets](https://marketplace.databricks.com/provider/dd56dcf4-cb70-449e-abad-c8038c0de3d9/CARTO) prepared by CARTO, available via the Databricks Marketplace. Follow the previous link to add any them (at no cost) to your catalog, if you haven't yet. For example, for the below query, use [Divisions](https://dbc-63c92876-2d84.cloud.databricks.com/marketplace/consumer/listings/2b2d3511-55cf-493c-8224-f5c5103a8d74?o=3737817604111714) (borders of countries and other administrative divisions):"
   ]
  },
  {
   "cell_type": "code",
   "execution_count": null,
   "metadata": {
    "application/vnd.databricks.v1+cell": {
     "cellMetadata": {
      "byteLimit": 2048000,
      "implicitDf": true,
      "rowLimit": 10000
     },
     "inputWidgets": {},
     "nuid": "4abc1430-5118-49dc-9bb0-3c48c05d3b1f",
     "showTitle": false,
     "tableResultSettingsMap": {},
     "title": ""
    }
   },
   "outputs": [],
   "source": [
    "%sql\n",
    "select\n",
    "  names:primary as name,\n",
    "  geometry\n",
    "from\n",
    "  carto_overture_maps_divisions.carto.division_area\n",
    "where\n",
    "  subtype = 'country'\n",
    "\n",
    "-- Returns:\n",
    "-- name\tgeometry\n",
    "-- \"\"\"Australia\"\"\"\tAQYAAAAjAAAAAQMAAAABAAAA (truncated)\n",
    "-- \"\"\"Timor-Leste\"\"\"\tAQYAAAAEAAAAAQMAAAABAAAA (truncated)\n",
    "-- \"\"\"Vanuatu\"\"\"\tAQYAAABlAAAAAQMAAAABAAAA (truncated)\n",
    "-- ... ..."
   ]
  },
  {
   "cell_type": "markdown",
   "metadata": {
    "application/vnd.databricks.v1+cell": {
     "cellMetadata": {},
     "inputWidgets": {},
     "nuid": "1ab683e5-5948-42c9-91b8-57719e5c9fba",
     "showTitle": false,
     "tableResultSettingsMap": {},
     "title": ""
    }
   },
   "source": [
    "These CARTO tables also show one pattern to organize and cluster tables with geometries: they include the bounding box columns `__carto_xmin`, `__carto_xmax`, `__carto_ymin`, `___carto_ymax` and are clustered by these colums.\n",
    "\n",
    "Another pattern would be to make use of spatial indexing such as [H3](https://docs.databricks.com/aws/en/sql/language-manual/sql-ref-h3-geospatial-functions)."
   ]
  },
  {
   "cell_type": "markdown",
   "metadata": {},
   "source": [
    "## Example usage with ST functions"
   ]
  },
  {
   "cell_type": "markdown",
   "metadata": {},
   "source": [
    "But what if you wanted to use \n",
    "\n",
    "show srid"
   ]
  },
  {
   "cell_type": "markdown",
   "metadata": {},
   "source": []
  }
 ],
 "metadata": {
  "application/vnd.databricks.v1+notebook": {
   "computePreferences": null,
   "dashboards": [],
   "environmentMetadata": {
    "base_environment": "",
    "environment_version": "2"
   },
   "inputWidgetPreferences": null,
   "language": "python",
   "notebookMetadata": {
    "mostRecentlyExecutedCommandWithImplicitDF": {
     "commandId": 5448765402746630,
     "dataframes": [
      "_sqldf"
     ]
    },
    "pythonIndentUnit": 4
   },
   "notebookName": "wkb",
   "widgets": {}
  },
  "language_info": {
   "name": "python"
  }
 },
 "nbformat": 4,
 "nbformat_minor": 0
}
