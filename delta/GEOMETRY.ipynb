{
 "cells": [
  {
   "cell_type": "markdown",
   "metadata": {
    "application/vnd.databricks.v1+cell": {
     "cellMetadata": {
      "byteLimit": 2048000,
      "rowLimit": 10000
     },
     "inputWidgets": {},
     "nuid": "b3ac8ec5-79bc-4e28-a7a5-ddc3d37ffe51",
     "showTitle": false,
     "tableResultSettingsMap": {},
     "title": ""
    }
   },
   "source": [
    "# Storing spatial data in Delta Lake as GEOMETRY type\n",
    "\n",
    "You can store geometry or geography data in a Delta Lake table in a [GEOMETRY](https://docs.databricks.com/aws/en/sql/language-manual/data-types/geometry-type) column. See also [GEOMETRY_vs_GEOGRAPHY](./GEOMETRY_vs_GEOGRAPHY.ipynb)."
   ]
  },
  {
   "cell_type": "code",
   "execution_count": null,
   "metadata": {
    "application/vnd.databricks.v1+cell": {
     "cellMetadata": {
      "byteLimit": 2048000,
      "implicitDf": true,
      "rowLimit": 10000
     },
     "inputWidgets": {},
     "nuid": "fb8b2454-2e55-4aa3-ae0f-0c2329db108e",
     "showTitle": false,
     "tableResultSettingsMap": {},
     "title": ""
    }
   },
   "outputs": [],
   "source": [
    "%sql\n",
    "create or replace table tmp_geometries as\n",
    "select\n",
    "  st_point(0, 0, 4326) as geometry,\n",
    "  \"Null Island\" as name\n",
    "union all\n",
    "select\n",
    "  st_transform(st_point(155000, 463000, 28992), 4326) as geometry,\n",
    "  \"Onze Lieve Vrouwetoren\" as name\n",
    "union all\n",
    "select\n",
    "  st_makepolygon(st_makeline(array(\n",
    "    st_point(-80.1935973, 25.7741566, 4326),\n",
    "    st_point(-64.7563086, 32.3040273, 4326),\n",
    "    st_point(-66.1166669, 18.4653003, 4326),\n",
    "    st_point(-80.1935973, 25.7741566, 4326)\n",
    "  ))) as geometry,\n",
    "  \"Bermuda Triangle\" as name;\n",
    "\n",
    "describe tmp_geometries\n",
    "-- Returns:\n",
    "\n",
    "-- col_name\tdata_type\tcomment\n",
    "-- geometry\tgeometry(4326)\tnull\n",
    "-- name\tstring\tnull"
   ]
  },
  {
   "cell_type": "markdown",
   "metadata": {
    "application/vnd.databricks.v1+cell": {
     "cellMetadata": {},
     "inputWidgets": {},
     "nuid": "532d4591-061c-4b5f-8678-5da1f97d9595",
     "showTitle": false,
     "tableResultSettingsMap": {},
     "title": ""
    }
   },
   "source": [
    "Note the `geometry(4326)` type above.\n",
    "\n",
    "::: {.callout-note}\n",
    "\n",
    "As of 2025-08-20, GEOMETRY/GEOGRAPHY columns cannot be returned in a notebook yet, therefore instead of `select *`, we temporarily use the pattern, for a column `g` of type GEOMETRY/GEOGRAPHY:\n",
    "\n",
    "```sql\n",
    "select\n",
    "  * except (g),\n",
    "  st_asewkt(g) as ewkt_g\n",
    "```\n",
    "\n",
    ":::"
   ]
  },
  {
   "cell_type": "code",
   "execution_count": null,
   "metadata": {
    "application/vnd.databricks.v1+cell": {
     "cellMetadata": {
      "byteLimit": 2048000,
      "implicitDf": true,
      "rowLimit": 10000
     },
     "inputWidgets": {},
     "nuid": "41603648-30d6-4775-983b-96831d3fd9fd",
     "showTitle": false,
     "tableResultSettingsMap": {},
     "title": ""
    }
   },
   "outputs": [],
   "source": [
    "%sql\n",
    "select\n",
    "  * except (geometry),\n",
    "  st_asewkt(geometry) ewkt_geometry\n",
    "from\n",
    "  tmp_geometries\n",
    "-- Returns:\n",
    "\n",
    "-- name\tewkt_geometry\n",
    "-- Bermuda Triangle\tSRID=4326;POLYGON((-80.1935973 25.7741566,-64.7563086 32.3040273,-66.1166669 18.4653003,-80.1935973 25.7741566))\n",
    "-- Onze Lieve Vrouwetoren\tSRID=4326;POINT(5.3872035084137675 52.15517230119224)\n",
    "-- Null Island\tSRID=4326;POINT(0 0)"
   ]
  },
  {
   "cell_type": "markdown",
   "metadata": {
    "application/vnd.databricks.v1+cell": {
     "cellMetadata": {
      "byteLimit": 2048000,
      "rowLimit": 10000
     },
     "inputWidgets": {},
     "nuid": "c4458787-4709-4bbd-9827-389e1cc4bdf6",
     "showTitle": false,
     "tableResultSettingsMap": {},
     "title": ""
    }
   },
   "source": [
    "(Note that you _could_ mix multiple SRID's in one GEOMETRY column inside a Spark Dataframe, including inside a view, but must have a single SRID in a table.)\n",
    "\n",
    "Let's calculate the distance in kilometers (on the surface of the spheroid Earth) between the two point examples above. [st_distancespheroid](https://docs.databricks.com/aws/en/sql/language-manual/functions/st_distancespheroid) expects lat/lon, so we'll first convert everything to SRID  4326 -- Null Island already is though."
   ]
  },
  {
   "cell_type": "code",
   "execution_count": null,
   "metadata": {
    "application/vnd.databricks.v1+cell": {
     "cellMetadata": {
      "byteLimit": 2048000,
      "implicitDf": true,
      "rowLimit": 10000
     },
     "inputWidgets": {},
     "nuid": "7b0a5af2-e906-4fa0-8d68-48ad94903b28",
     "showTitle": false,
     "tableResultSettingsMap": {},
     "title": ""
    }
   },
   "outputs": [],
   "source": [
    "%sql\n",
    "with geoms_lonlat as (\n",
    "  select\n",
    "    st_transform(geometry, 4326) geom_lonlat,\n",
    "    name\n",
    "  from\n",
    "    tmp_geometries\n",
    "),\n",
    "nullisland as (\n",
    "  select\n",
    "    *\n",
    "  from\n",
    "    geoms_lonlat\n",
    "  where\n",
    "    name = \"Null Island\"\n",
    "),\n",
    "onzelieve as (\n",
    "  select\n",
    "    *\n",
    "  from\n",
    "    geoms_lonlat\n",
    "  where\n",
    "    name = \"Onze Lieve Vrouwetoren\"\n",
    ")\n",
    "select\n",
    "  st_distancesphere(nullisland.geom_lonlat, onzelieve.geom_lonlat) / 1e3 as distance_kms\n",
    "from\n",
    "  nullisland,\n",
    "  onzelieve\n",
    "-- Returns:\n",
    "-- distance_kms\n",
    "-- 5821.233209229107"
   ]
  },
  {
   "cell_type": "markdown",
   "metadata": {
    "application/vnd.databricks.v1+cell": {
     "cellMetadata": {
      "byteLimit": 2048000,
      "rowLimit": 10000
     },
     "inputWidgets": {},
     "nuid": "0f4f8494-4411-45f0-94f0-ea2b66dda7a1",
     "showTitle": false,
     "tableResultSettingsMap": {},
     "title": ""
    }
   },
   "source": [
    "The GEOGRAPHY type also offers further functions that take lon/lat as input and produce meters as output, such as [st_area](https://docs.databricks.com/aws/en/sql/language-manual/functions/st_area). So let's calculate the size of the Bermuda Triangle in square kms:"
   ]
  },
  {
   "cell_type": "code",
   "execution_count": null,
   "metadata": {
    "application/vnd.databricks.v1+cell": {
     "cellMetadata": {
      "byteLimit": 2048000,
      "implicitDf": true,
      "rowLimit": 10000
     },
     "inputWidgets": {},
     "nuid": "3924a1ed-1956-4956-a2aa-e23c89010aae",
     "showTitle": false,
     "tableResultSettingsMap": {},
     "title": ""
    }
   },
   "outputs": [],
   "source": [
    "%sql\n",
    "with bermuda_geog as (\n",
    "  select\n",
    "    try_cast(st_setsrid(geometry, 4326) as geography(4326)) geography\n",
    "  from\n",
    "    tmp_geometries\n",
    "  where\n",
    "    name = 'Bermuda Triangle'\n",
    ")\n",
    "select\n",
    "  st_area(geography) / 1e6 area_km2s\n",
    "from\n",
    "  bermuda_geog\n",
    "-- Returns:\n",
    "-- area_km2s\n",
    "-- 1144371.82556931"
   ]
  },
  {
   "cell_type": "markdown",
   "metadata": {
    "application/vnd.databricks.v1+cell": {
     "cellMetadata": {
      "byteLimit": 2048000,
      "rowLimit": 10000
     },
     "inputWidgets": {},
     "nuid": "c02b26d7-759b-46a9-864f-5e36d9ecaa91",
     "showTitle": false,
     "tableResultSettingsMap": {},
     "title": ""
    }
   },
   "source": [
    "## Cleanup"
   ]
  },
  {
   "cell_type": "code",
   "execution_count": null,
   "metadata": {
    "application/vnd.databricks.v1+cell": {
     "cellMetadata": {
      "byteLimit": 2048000,
      "rowLimit": 10000
     },
     "inputWidgets": {},
     "nuid": "64abe896-7c9a-4aee-ac48-e1bfd1ea48ad",
     "showTitle": false,
     "tableResultSettingsMap": {},
     "title": ""
    }
   },
   "outputs": [],
   "source": [
    "%sql\n",
    "-- drop table tmp_geometries"
   ]
  }
 ],
 "metadata": {
  "application/vnd.databricks.v1+notebook": {
   "computePreferences": null,
   "dashboards": [],
   "environmentMetadata": null,
   "inputWidgetPreferences": null,
   "language": "python",
   "notebookMetadata": {
    "mostRecentlyExecutedCommandWithImplicitDF": {
     "commandId": 7157451787971557,
     "dataframes": [
      "_sqldf"
     ]
    },
    "pythonIndentUnit": 4
   },
   "notebookName": "GEOMETRY",
   "widgets": {}
  },
  "language_info": {
   "name": "python"
  }
 },
 "nbformat": 4,
 "nbformat_minor": 0
}
