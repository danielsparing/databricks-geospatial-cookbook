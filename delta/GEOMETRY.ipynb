{
 "cells": [
  {
   "cell_type": "markdown",
   "id": "0",
   "metadata": {},
   "source": [
    "# Storing spatial data in Delta Lake as GEOMETRY type\n",
    "\n",
    "You can store geometry or geography data in a Delta Lake table in a [GEOMETRY](https://docs.databricks.com/aws/en/sql/language-manual/data-types/geometry-type) column.\n",
    "\n",
    "_NOTE: As of 2025-08-03, the GEOMETRY and GEOGRAPHY types are not available yet in Serverless Compute and you need a DBR 17.1+ cluster to use this feature. This means that this is also not available in the Databricks Free Edition. This limitation is expected to be lifted in the very near future._"
   ]
  }
 ],
 "metadata": {
  "language_info": {
   "name": "python"
  }
 },
 "nbformat": 4,
 "nbformat_minor": 5
}
