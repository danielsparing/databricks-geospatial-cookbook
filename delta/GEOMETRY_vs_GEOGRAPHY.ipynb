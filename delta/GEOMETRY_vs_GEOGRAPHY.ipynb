{
 "cells": [
  {
   "cell_type": "markdown",
   "metadata": {
    "application/vnd.databricks.v1+cell": {
     "cellMetadata": {
      "byteLimit": 2048000,
      "rowLimit": 10000
     },
     "inputWidgets": {},
     "nuid": "4e3f536a-390e-44c6-b88e-ae547c02a921",
     "showTitle": false,
     "tableResultSettingsMap": {},
     "title": ""
    }
   },
   "source": [
    "# GEOMETRY vs GEOGRAPHY vs WKB\n",
    "\n",
    "- If in a Delta Lake table you only store (lat, lon) values, use [GEOGRAPHY](./GEOGRAPHY.ipynb) (with the caveat that for st_distanceshpere and st_distancespheroid to work, you would need to cast geographies to geometry as `geog::geometry(4326)`).\n",
    "- If you use an SRID other than 4326 or multiple SRID's, use [GEOMETRY](./GEOMETRY.ipynb). If you need to calculate values in meters from lat/lon, you can still cast to GEOGRAPHY as needed and use [measurement functions](https://docs.databricks.com/aws/en/sql/language-manual/sql-ref-st-geospatial-functions#measurements) like `st_area`, `st_length` or `st_perimeter`.\n",
    "- If you need compatility with other tools, you might consider [WKB](./WKB.ipynb) -- however, `spark.write.parquet()` would export GEOMETRY/GEOGRAPHY columns as WKB anyway.\n"
   ]
  }
 ],
 "metadata": {
  "application/vnd.databricks.v1+notebook": {
   "computePreferences": null,
   "dashboards": [],
   "environmentMetadata": {
    "base_environment": "",
    "environment_version": "2"
   },
   "inputWidgetPreferences": null,
   "language": "python",
   "notebookMetadata": {
    "pythonIndentUnit": 4
   },
   "notebookName": "GEOMETRY_vs_GEOGRAPHY",
   "widgets": {}
  },
  "language_info": {
   "name": "python"
  }
 },
 "nbformat": 4,
 "nbformat_minor": 0
}
