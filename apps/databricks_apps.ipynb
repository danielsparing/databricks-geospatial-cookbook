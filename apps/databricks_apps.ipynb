{
 "cells": [
  {
   "cell_type": "markdown",
   "id": "0",
   "metadata": {},
   "source": [
    "# Helper apps on Databricks Apps\n",
    "\n",
    "To install one of these apps: follow the steps in the [docs](https://docs.databricks.com/aws/en/dev-tools/databricks-apps/create-custom-app) and sync one of the below directories to your app diredtory.\n",
    "\n",
    ":::{.callout-note}\n",
    "\n",
    "In Databricks Free Edition, you can only set up one app at a time. In a paid workspace, you can have multiple.\n",
    "\n",
    ":::"
   ]
  },
  {
   "cell_type": "markdown",
   "id": "1",
   "metadata": {},
   "source": [
    "## pmtiles-viewer\n",
    "\n",
    "[https://github.com/danielsparing/databricks-geospatial-cookbook/tree/main/apps/pmtiles-viewer](https://github.com/danielsparing/databricks-geospatial-cookbook/tree/main/apps/pmtiles-viewer\n",
    ")\n",
    "\n",
    "This app is a viewer of PMTiles files stored in Volumes.\n",
    "\n",
    "Uses [App authorization](https://docs.databricks.com/aws/en/dev-tools/databricks-apps/auth#app-authorization).\n",
    "\n",
    "For example, if you set up your app at `https://pmtiles-viewer-{workspace_id}.aws.databricksapps.com/` and  your PMTiles file is stored at the root of a Volume at `/Volumes/{CATALOG}/{SCHEMA}/{VOLUME}/geometries.pmtiles`, then your PMTiles viewer URL would be:\n",
    "\n",
    "```\n",
    "https://pmtiles-viewer-{workspace_id}.aws.databricksapps.com/?filePath=/Volumes/{CATALOG}/{SCHEMA}/{VOLUME}/geometries.pmtiles\n",
    "```"
   ]
  },
  {
   "cell_type": "markdown",
   "id": "2",
   "metadata": {},
   "source": [
    "## html-viewer\n",
    "\n",
    "[https://github.com/danielsparing/databricks-geospatial-cookbook/tree/main/apps/html-viewer](https://github.com/danielsparing/databricks-geospatial-cookbook/tree/main/apps/html-viewer)\n",
    "\n",
    "This app uses user authorization (in Preview as of Aug 2025, and not yet available on Free Edition) to open a HTML file stored in Volumes.\n",
    "\n",
    "An example use case is Lonboard generating a geospatial visualization into a HTML file, and then this app can be used to view this file without download -- not that this is not _that_ useful after all, as the data still has to travel to the user's browser."
   ]
  }
 ],
 "metadata": {
  "language_info": {
   "name": "python"
  }
 },
 "nbformat": 4,
 "nbformat_minor": 5
}
