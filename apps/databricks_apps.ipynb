{
 "cells": [
  {
   "cell_type": "markdown",
   "id": "0",
   "metadata": {},
   "source": [
    "# Helper apps on Databricks Apps"
   ]
  },
  {
   "cell_type": "markdown",
   "id": "1",
   "metadata": {},
   "source": [
    "## html-viewer\n",
    "\n",
    "This app uses user authorization (in Preview as of Aug 2025, and not yet available on Free Edition) to open a HTML file stored in Volumes.\n",
    "\n",
    "An example use case is Lonboard generating a geospatial visualization into a HTML file, and then this app can be used to view this file without download -- not that this is not _that_ useful after all, as the data still has to travel to the user's browser.\n",
    "\n",
    "The app could also use [App authorization](https://docs.databricks.com/aws/en/dev-tools/databricks-apps/auth#app-authorization) (not implemented), in which case the service principal of the app would need to be granted access to the Volume."
   ]
  }
 ],
 "metadata": {
  "language_info": {
   "name": "python"
  }
 },
 "nbformat": 4,
 "nbformat_minor": 5
}
