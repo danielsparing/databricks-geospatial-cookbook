{
 "cells": [
  {
   "cell_type": "markdown",
   "metadata": {
    "application/vnd.databricks.v1+cell": {
     "cellMetadata": {
      "byteLimit": 2048000,
      "rowLimit": 10000
     },
     "inputWidgets": {},
     "nuid": "462b1d0c-c0d2-4789-bd7a-cfcabfe9e893",
     "showTitle": false,
     "tableResultSettingsMap": {},
     "title": ""
    }
   },
   "source": [
    "# DuckDB on Databricks\n",
    "\n",
    "[DuckDB](https://duckdb.org/) is a formidable new single-machine analytics tool, tracing its origins to the same [Dutch research institute](https://www.cwi.nl/nl/) as Python. Crucially for this guide, it comes with a remarkably good [Spatial extension](https://duckdb.org/docs/stable/core_extensions/spatial/overview.html).\n",
    "\n",
    "While Databricks comes with its own set of geospatial features, such as [ST functions](https://docs.databricks.com/aws/en/sql/language-manual/sql-ref-st-geospatial-functions) and [H3 functions](https://docs.databricks.com/aws/en/sql/language-manual/sql-ref-h3-geospatial-functions), nothing stops you to use DuckDB on the side as well.\n",
    "\n",
    "(What you do have to keep in mind though is that while much of Databricks's tooling, namely Apache Spark, is focused on big data analysis multi-node clusters, your DuckDB instead will just run on single-node, just like e.g. Pandas would. So use single-node clusters, or Spark UDFs [TODO: insert a link here before].)\n"
   ]
  },
  {
   "cell_type": "markdown",
   "metadata": {
    "application/vnd.databricks.v1+cell": {
     "cellMetadata": {
      "byteLimit": 2048000,
      "rowLimit": 10000
     },
     "inputWidgets": {},
     "nuid": "03723ea7-33cd-42e3-b9f9-eda4f048e43e",
     "showTitle": false,
     "tableResultSettingsMap": {},
     "title": ""
    }
   },
   "source": [
    "## Setting up DuckDB on Databricks"
   ]
  },
  {
   "cell_type": "code",
   "execution_count": null,
   "metadata": {
    "application/vnd.databricks.v1+cell": {
     "cellMetadata": {
      "byteLimit": 2048000,
      "rowLimit": 10000
     },
     "inputWidgets": {},
     "nuid": "76287d43-3e3f-486b-b658-40bd03725abc",
     "showTitle": false,
     "tableResultSettingsMap": {},
     "title": ""
    }
   },
   "outputs": [],
   "source": [
    "%pip install duckdb --quiet\n",
    "\n",
    "import duckdb\n",
    "\n",
    "# Install the Spatial Extension:\n",
    "duckdb.sql(\"install spatial; load spatial\")"
   ]
  },
  {
   "cell_type": "markdown",
   "metadata": {},
   "source": [
    "_NOTE: If `install spatial` fails, check whether HTTP is blocked on your (corporate) network. If so, then you need to work around it as described [here](../appendix/https_install_duckdbextension.ipynb)._"
   ]
  },
  {
   "cell_type": "markdown",
   "metadata": {
    "application/vnd.databricks.v1+cell": {
     "cellMetadata": {
      "byteLimit": 2048000,
      "rowLimit": 10000
     },
     "inputWidgets": {},
     "nuid": "61c64b7e-b0fd-4db4-bf5f-0f2f346229e5",
     "showTitle": false,
     "tableResultSettingsMap": {},
     "title": ""
    }
   },
   "source": [
    "This allows you to directly use the DuckDB Spatial, for example:"
   ]
  },
  {
   "cell_type": "code",
   "execution_count": null,
   "metadata": {
    "application/vnd.databricks.v1+cell": {
     "cellMetadata": {
      "byteLimit": 2048000,
      "rowLimit": 10000
     },
     "inputWidgets": {},
     "nuid": "d2e8f1da-a69d-478e-b5bf-be92fcb16bb8",
     "showTitle": false,
     "tableResultSettingsMap": {},
     "title": ""
    }
   },
   "outputs": [],
   "source": [
    "duckdb.sql(\"select st_distance(st_point(3, 0), st_point(0, 4)) d\")\n",
    "\n",
    "# Returns:\n",
    "\n",
    "# ┌────────┐\n",
    "# │   d    │\n",
    "# │ double │\n",
    "# ├────────┤\n",
    "# │    5.0 │\n",
    "# └────────┘"
   ]
  },
  {
   "cell_type": "markdown",
   "metadata": {
    "application/vnd.databricks.v1+cell": {
     "cellMetadata": {
      "byteLimit": 2048000,
      "rowLimit": 10000
     },
     "inputWidgets": {},
     "nuid": "0423462f-351f-4497-a9dc-d9b12bc3ac46",
     "showTitle": false,
     "tableResultSettingsMap": {},
     "title": ""
    }
   },
   "source": [
    "## Visualize DuckDB Spatial output\n",
    "\n",
    "If your data is simply lon/lat points, you can make use of the built-in point map visualization in Databricks Notebooks if you convert the DuckDB to a Spark DataFrame via Pandas. Once the result is shown, click on the `+` icon right of the `Table` tab to add the visualization \"Map (Markers)\" such as the one shown on the below image.\n",
    "\n",
    "Following the New York City pizza restaurants [example](https://docs.overturemaps.org/getting-data/duckdb/?query=Places#downloading-overture-data), but let's switch to Amsterdam because why not:"
   ]
  },
  {
   "cell_type": "code",
   "execution_count": null,
   "metadata": {
    "application/vnd.databricks.v1+cell": {
     "cellMetadata": {
      "byteLimit": 2048000,
      "rowLimit": 10000
     },
     "inputWidgets": {},
     "nuid": "6bbba57f-b0fc-4bb6-9493-fb3a0a610b78",
     "showTitle": false,
     "tableResultSettingsMap": {},
     "title": ""
    }
   },
   "outputs": [],
   "source": [
    "query = duckdb.sql(\n",
    "    \"\"\"\n",
    "with t as (\n",
    "  SELECT\n",
    "    id,\n",
    "    names.primary as name,\n",
    "    confidence AS confidence,\n",
    "    CAST(socials AS JSON) as socials,\n",
    "    geometry\n",
    "  FROM\n",
    "    read_parquet('s3://overturemaps-us-west-2/release/2025-07-23.0/theme=places/type=place/*')\n",
    "  WHERE\n",
    "    categories.primary = 'pizza_restaurant'\n",
    "    AND bbox.xmin BETWEEN 4.7 AND 5.0\n",
    "    AND bbox.ymin BETWEEN 52.3 AND 52.4\n",
    ")\n",
    "select st_x(geometry) lon, st_y(geometry) lat, name from t\n",
    "\"\"\"\n",
    ")\n",
    "query\n",
    "\n",
    "# Returns:\n",
    "\n",
    "# ┌───────────┬────────────┬──────────────────────────────────────────┐\n",
    "# │    lon    │    lat     │                   name                   │\n",
    "# │  double   │   double   │                 varchar                  │\n",
    "# ├───────────┼────────────┼──────────────────────────────────────────┤\n",
    "# │  4.762994 │ 52.3099144 │ Per Tutti                                │\n",
    "# │ 4.7789755 │ 52.3381557 │ New York Pizza                           │\n",
    "# │ 4.7811585 │ 52.3367951 │ CiCi Pizza                               │\n",
    "# │     ·     │      ·     │       ·                                  │\n",
    "# │     ·     │      ·     │       ·                                  │\n",
    "# │     ·     │      ·     │       ·                                  │"
   ]
  },
  {
   "cell_type": "code",
   "execution_count": null,
   "metadata": {
    "application/vnd.databricks.v1+cell": {
     "cellMetadata": {
      "byteLimit": 2048000,
      "rowLimit": 10000
     },
     "inputWidgets": {},
     "nuid": "959091e2-7c35-47a6-8999-e57eab0c4d5b",
     "showTitle": false,
     "tableResultSettingsMap": {},
     "title": ""
    }
   },
   "outputs": [],
   "source": [
    "spark.createDataFrame(query.df()).display()"
   ]
  },
  {
   "cell_type": "markdown",
   "metadata": {
    "application/vnd.databricks.v1+cell": {
     "cellMetadata": {
      "byteLimit": 2048000,
      "rowLimit": 10000
     },
     "inputWidgets": {},
     "nuid": "1be5b2c3-b2de-4dd4-93c8-f56ed6e2ce56",
     "showTitle": false,
     "tableResultSettingsMap": {},
     "title": ""
    }
   },
   "source": [
    "![point_map](./img/point_map.png)"
   ]
  },
  {
   "cell_type": "markdown",
   "metadata": {
    "application/vnd.databricks.v1+cell": {
     "cellMetadata": {
      "byteLimit": 2048000,
      "rowLimit": 10000
     },
     "inputWidgets": {},
     "nuid": "2f09c012-3c04-47d0-b187-7fa0dc751022",
     "showTitle": false,
     "tableResultSettingsMap": {},
     "title": ""
    }
   },
   "source": [
    "Or visualize with lonboard, which will work also for other geometry types like linestrings and polygons, again following an Overture Maps example:"
   ]
  },
  {
   "cell_type": "code",
   "execution_count": null,
   "metadata": {
    "application/vnd.databricks.v1+cell": {
     "cellMetadata": {
      "byteLimit": 2048000,
      "rowLimit": 10000
     },
     "inputWidgets": {},
     "nuid": "3195aaeb-d076-4b7d-9267-0d6e6281e996",
     "showTitle": false,
     "tableResultSettingsMap": {},
     "title": ""
    }
   },
   "outputs": [],
   "source": [
    "%pip install lonboard shapely --quiet\n",
    "\n",
    "from lonboard import viz"
   ]
  },
  {
   "cell_type": "code",
   "execution_count": null,
   "metadata": {
    "application/vnd.databricks.v1+cell": {
     "cellMetadata": {
      "byteLimit": 2048000,
      "rowLimit": 10000
     },
     "inputWidgets": {},
     "nuid": "7d938d3d-68c4-4901-ba3c-48fc14cf5aca",
     "showTitle": false,
     "tableResultSettingsMap": {},
     "title": ""
    }
   },
   "outputs": [],
   "source": [
    "query = duckdb.sql(\n",
    "    \"\"\"\n",
    "  SELECT\n",
    "    subtype,\n",
    "    names.primary as name,\n",
    "    geometry\n",
    "  FROM\n",
    "    read_parquet('s3://overturemaps-us-west-2/release/2025-07-23.0/theme=divisions/type=division_area/*')\n",
    "  WHERE\n",
    "    4.7 < bbox.xmax AND bbox.xmin < 5.0\n",
    "    AND 52.3 < bbox.ymax AND bbox.ymin < 52.4\n",
    "    AND subtype = 'county'\n",
    "    AND country = 'NL'\n",
    "\"\"\"\n",
    ")\n",
    "\n",
    "viz(query).as_html()"
   ]
  },
  {
   "cell_type": "markdown",
   "metadata": {
    "application/vnd.databricks.v1+cell": {
     "cellMetadata": {
      "byteLimit": 2048000,
      "rowLimit": 10000
     },
     "inputWidgets": {},
     "nuid": "ccd50e72-c44d-48d9-a7fb-5e910da14979",
     "showTitle": false,
     "tableResultSettingsMap": {},
     "title": ""
    }
   },
   "source": [
    "![lonboard_gemeente_map](./img/lonboard_gemeente_map.png)"
   ]
  },
  {
   "cell_type": "markdown",
   "metadata": {
    "application/vnd.databricks.v1+cell": {
     "cellMetadata": {
      "byteLimit": 2048000,
      "rowLimit": 10000
     },
     "inputWidgets": {},
     "nuid": "0deabc17-f414-4fa8-973c-7b040d34e5f7",
     "showTitle": false,
     "tableResultSettingsMap": {},
     "title": ""
    }
   },
   "source": [
    "Note that clicking on a polygon opens a table with its parameters, in this case the municipalities of Amsterdam and some of its neighbors.\n",
    "\n",
    "As powerful as Lonboard is, it won't be able to visualize extremely large numbers of geometries, so if you try and fail at a larger example, try filtering your objects further."
   ]
  },
  {
   "cell_type": "markdown",
   "metadata": {
    "application/vnd.databricks.v1+cell": {
     "cellMetadata": {
      "byteLimit": 2048000,
      "rowLimit": 10000
     },
     "inputWidgets": {},
     "nuid": "05e9ce49-faa2-4dc5-be4d-9b8901166b00",
     "showTitle": false,
     "tableResultSettingsMap": {},
     "title": ""
    }
   },
   "source": [
    "## Write Delta Lake Tables from DuckDB\n",
    "\n",
    "If you want to write a result to a delta lake table (or temporary view), you can use Pandas as an intermediary format:"
   ]
  },
  {
   "cell_type": "code",
   "execution_count": null,
   "metadata": {
    "application/vnd.databricks.v1+cell": {
     "cellMetadata": {
      "byteLimit": 2048000,
      "rowLimit": 10000
     },
     "inputWidgets": {},
     "nuid": "55fc4e92-c9ee-4c7a-ade4-84a3d2a9397f",
     "showTitle": false,
     "tableResultSettingsMap": {},
     "title": ""
    }
   },
   "outputs": [],
   "source": [
    "spark.createDataFrame(query.df()).createOrReplaceTempView(\"t\")\n",
    "\n",
    "# Or write a persistent table, instead of a temporary view:\n",
    "# spark.createDataFrame(query.df()).write.saveAsTable(\"t\")"
   ]
  },
  {
   "cell_type": "code",
   "execution_count": null,
   "metadata": {
    "application/vnd.databricks.v1+cell": {
     "cellMetadata": {
      "byteLimit": 2048000,
      "implicitDf": true,
      "rowLimit": 10000
     },
     "inputWidgets": {},
     "nuid": "80f446b2-f88e-4b9c-a9a3-2b0017370ef3",
     "showTitle": false,
     "tableResultSettingsMap": {
      "0": {
       "dataGridStateBlob": "{\"version\":1,\"tableState\":{\"columnPinning\":{\"left\":[\"#row_number#\"],\"right\":[]},\"columnSizing\":{},\"columnVisibility\":{}},\"settings\":{\"columns\":{}},\"syncTimestamp\":1754156918738}",
       "filterBlob": null,
       "queryPlanFiltersBlob": null,
       "tableResultIndex": 0
      }
     },
     "title": ""
    }
   },
   "outputs": [],
   "source": [
    "%sql\n",
    "select name from t\n",
    "\n",
    "-- Returns:\n",
    "\n",
    "-- ┌────────────────┐\n",
    "-- │      name      │\n",
    "-- ├────────────────┤\n",
    "-- │ Haarlemmermeer │\n",
    "-- │ Aalsmeer       │\n",
    "-- │ De Ronde Venen │\n",
    "-- │ Amstelveen     │\n",
    "-- │ Ouder-Amstel   │\n",
    "-- │ Amsterdam      │\n",
    "-- │ Diemen         │\n",
    "-- │ Waterland      │\n",
    "-- └────────────────┘"
   ]
  },
  {
   "cell_type": "markdown",
   "metadata": {
    "application/vnd.databricks.v1+cell": {
     "cellMetadata": {
      "byteLimit": 2048000,
      "rowLimit": 10000
     },
     "inputWidgets": {},
     "nuid": "c45d3221-a136-4f4c-92bb-b1769ba28537",
     "showTitle": false,
     "tableResultSettingsMap": {},
     "title": ""
    }
   },
   "source": [
    "## Read Delta Lake Tables with DuckDB\n",
    "\n",
    "We can read moderate amount of data from a delta table to duckdb via Arrow (or Pandas). (This assumes that the data volume is not prohibitively large to load into the memory of a single machine.)"
   ]
  },
  {
   "cell_type": "code",
   "execution_count": null,
   "metadata": {
    "application/vnd.databricks.v1+cell": {
     "cellMetadata": {
      "byteLimit": 2048000,
      "implicitDf": true,
      "rowLimit": 10000
     },
     "inputWidgets": {},
     "nuid": "e8afa572-0a0d-40c5-bd00-b09ff926212d",
     "showTitle": false,
     "tableResultSettingsMap": {},
     "title": ""
    }
   },
   "outputs": [],
   "source": [
    "dfa = spark.read.table(\"t\").toArrow()\n",
    "\n",
    "query = duckdb.sql(\"\"\"\n",
    "select\n",
    "    name\n",
    "from\n",
    "    dfa;\n",
    "\"\"\")\n",
    "query\n",
    "\n",
    "# Returns:\n",
    "\n",
    "# ┌────────────────┐\n",
    "# │      name      │\n",
    "# │    varchar     │\n",
    "# ├────────────────┤\n",
    "# │ Haarlemmermeer │\n",
    "# │ Aalsmeer       │\n",
    "# │ De Ronde Venen │\n",
    "# │ Amstelveen     │\n",
    "# │ Ouder-Amstel   │\n",
    "# │ Amsterdam      │\n",
    "# │ Diemen         │\n",
    "# │ Waterland      │\n",
    "# └────────────────┘"
   ]
  },
  {
   "cell_type": "markdown",
   "metadata": {
    "application/vnd.databricks.v1+cell": {
     "cellMetadata": {
      "byteLimit": 2048000,
      "rowLimit": 10000
     },
     "inputWidgets": {},
     "nuid": "7c48d501-7c6f-40f7-9189-017cc2018ae8",
     "showTitle": false,
     "tableResultSettingsMap": {},
     "title": ""
    }
   },
   "source": [
    "Another, more scalable way to read Delta Lake tables with DuckDB is to use the Databricks [Temporary Table Credentials API](https://docs.databricks.com/api/workspace/temporarytablecredentials) and the DuckDB [Delta extension](https://duckdb.org/docs/stable/core_extensions/delta.html)."
   ]
  }
 ],
 "metadata": {
  "application/vnd.databricks.v1+notebook": {
   "computePreferences": null,
   "dashboards": [],
   "environmentMetadata": {
    "base_environment": "",
    "environment_version": "2"
   },
   "inputWidgetPreferences": null,
   "language": "python",
   "notebookMetadata": {
    "mostRecentlyExecutedCommandWithImplicitDF": {
     "commandId": 6277429149547542,
     "dataframes": [
      "_sqldf"
     ]
    },
    "pythonIndentUnit": 4
   },
   "notebookName": "DuckDB_on_Databricks",
   "widgets": {}
  },
  "kernelspec": {
   "display_name": "venv (3.13.3)",
   "language": "python",
   "name": "python3"
  },
  "language_info": {
   "codemirror_mode": {
    "name": "ipython",
    "version": 3
   },
   "file_extension": ".py",
   "mimetype": "text/x-python",
   "name": "python",
   "nbconvert_exporter": "python",
   "pygments_lexer": "ipython3",
   "version": "3.13.3"
  }
 },
 "nbformat": 4,
 "nbformat_minor": 0
}
