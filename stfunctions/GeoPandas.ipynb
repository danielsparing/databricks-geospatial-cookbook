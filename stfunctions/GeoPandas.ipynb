{
 "cells": [
  {
   "cell_type": "markdown",
   "id": "0",
   "metadata": {},
   "source": [
    "# GeoPandas\n",
    "\n",
    "If you are processing geospatial data that's small enough to fit in memory, then besides (Databricks SQL and) [DuckDB Spatial](../duckdb-on-databricks/DuckDB_on_Databricks.ipynb), you can also consider using GeoPandas. For more scalable approaches, you could define Spark UDFs based on GeoPandas similar to how we defined them [on top of DuckDB Spatial](duckdb_udf.ipynb). As this guide is mostly focused on SQL-based approaches, we won't go into more detail here."
   ]
  }
 ],
 "metadata": {
  "language_info": {
   "name": "python"
  }
 },
 "nbformat": 4,
 "nbformat_minor": 5
}
