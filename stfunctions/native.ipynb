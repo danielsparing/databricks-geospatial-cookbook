{
 "cells": [
  {
   "cell_type": "markdown",
   "metadata": {
    "application/vnd.databricks.v1+cell": {
     "cellMetadata": {},
     "inputWidgets": {},
     "nuid": "bad040f4-40f3-493c-9df5-d79a39d3946c",
     "showTitle": false,
     "tableResultSettingsMap": {},
     "title": ""
    }
   },
   "source": [
    "# Databricks Native ST geospatial functions\n",
    "\n",
    "Databricks SQL includes a large number of [ST geospatial functions](https://docs.databricks.com/aws/en/sql/language-manual/sql-ref-st-geospatial-functions) for large-scale, native processing of geodata. Just a few examples:"
   ]
  },
  {
   "cell_type": "markdown",
   "metadata": {
    "application/vnd.databricks.v1+cell": {
     "cellMetadata": {},
     "inputWidgets": {},
     "nuid": "2c90d625-6906-41bf-8f15-a0a7e46f5cd4",
     "showTitle": false,
     "tableResultSettingsMap": {},
     "title": ""
    }
   },
   "source": [
    "## GEOGRAPHY operations\n",
    "\n",
    "You can use `st_area`, `st_length` and `st_perimeter` directly on GEOGRAPHY (lon/lat) columns to get results in meters:"
   ]
  },
  {
   "cell_type": "code",
   "execution_count": 0,
   "metadata": {
    "application/vnd.databricks.v1+cell": {
     "cellMetadata": {
      "byteLimit": 2048000,
      "implicitDf": true,
      "rowLimit": 10000
     },
     "inputWidgets": {},
     "nuid": "043782a8-6bbd-4f87-8aa2-24a0c366b6e3",
     "showTitle": false,
     "tableResultSettingsMap": {
      "0": {
       "dataGridStateBlob": "{\"version\":1,\"tableState\":{\"columnPinning\":{\"left\":[\"#row_number#\"],\"right\":[]},\"columnSizing\":{},\"columnVisibility\":{}},\"settings\":{\"columns\":{}},\"syncTimestamp\":1754629004417}",
       "filterBlob": null,
       "queryPlanFiltersBlob": null,
       "tableResultIndex": 0
      }
     },
     "title": ""
    }
   },
   "outputs": [],
   "source": [
    "%sql\n",
    "-- Areas of countries. Note that a country might not be listed if:\n",
    "-- - they don't have generally accepted borders, or\n",
    "-- - they cross the date line, leading to unsupported coordinates for `st_geogfromwkb` (hence the use of `try_to_geography`)\n",
    "select\n",
    "  country, names:primary name,\n",
    "  st_area(try_to_geography(geometry)) / 1e6 area_km2\n",
    "from\n",
    "  carto_overture_maps_divisions.carto.division_area\n",
    "where\n",
    "  subtype = 'country'\n",
    "  and class = 'land'\n",
    "order by\n",
    "  area_km2 \n",
    "-- Returns:\n",
    "-- country\tname\tarea_km2\n",
    "-- CA\t\"\"\"Canada\"\"\"\t9966895.526025355\n",
    "-- US\t\"\"\"United States\"\"\"\t9476994.623136332\n",
    "-- CN\t\"\"\"中国\"\"\"\t9390439.241133066\n",
    "-- BR\t\"\"\"Brasil\"\"\"\t8507809.984099092\n",
    "-- IN\t\"\"\"India\"\"\"\t3149764.8857977577\n",
    "-- ..."
   ]
  },
  {
   "cell_type": "markdown",
   "metadata": {
    "application/vnd.databricks.v1+cell": {
     "cellMetadata": {},
     "inputWidgets": {},
     "nuid": "69d5cad0-8670-4982-a196-ba30ec48260d",
     "showTitle": false,
     "tableResultSettingsMap": {},
     "title": ""
    }
   },
   "source": [
    "If you store (lon, lat) point data as GEOGRAPHY, you can calculate distance in meters by converting to `GEOMETRY(4326)` first:"
   ]
  },
  {
   "cell_type": "code",
   "execution_count": 0,
   "metadata": {
    "application/vnd.databricks.v1+cell": {
     "cellMetadata": {
      "byteLimit": 2048000,
      "implicitDf": true,
      "rowLimit": 10000
     },
     "inputWidgets": {},
     "nuid": "9a6e0e2d-d21b-4e7f-829a-0a2f2cc47739",
     "showTitle": false,
     "tableResultSettingsMap": {
      "0": {
       "dataGridStateBlob": "{\"version\":1,\"tableState\":{\"columnPinning\":{\"left\":[\"#row_number#\"],\"right\":[]},\"columnSizing\":{},\"columnVisibility\":{}},\"settings\":{\"columns\":{}},\"syncTimestamp\":1754632322022}",
       "filterBlob": null,
       "queryPlanFiltersBlob": null,
       "tableResultIndex": 0
      }
     },
     "title": ""
    }
   },
   "outputs": [],
   "source": [
    "%sql\n",
    "with cities as (\n",
    "  select\n",
    "    names:primary::string as name,\n",
    "    st_geogfromwkb(geometry) geog\n",
    "  from\n",
    "    carto_overture_maps_divisions.carto.division\n",
    "  where\n",
    "    subtype = 'locality'\n",
    "    and class = 'city'\n",
    "    -- just to speed up the lookup\n",
    "    and `__carto_xmax` between - 1.41 and 2.99\n",
    "    and `__carto_ymax` between 48.57 and 52.21\n",
    "),\n",
    "london as (\n",
    "  select\n",
    "    *\n",
    "  from\n",
    "    cities\n",
    "  where\n",
    "    name = \"London\"\n",
    "),\n",
    "paris as (\n",
    "  select\n",
    "    *\n",
    "  from\n",
    "    cities\n",
    "  where\n",
    "    name = \"Paris\"\n",
    ")\n",
    "select\n",
    "  st_distancespheroid(london.geog::geometry(4326), paris.geog::geometry(4326)) / 1e3 dist_km\n",
    "from\n",
    "  london,\n",
    "  paris\n",
    "--\n",
    "-- Returns:\n",
    "--\n",
    "-- dist_km\n",
    "-- 344.08532856606695"
   ]
  }
 ],
 "metadata": {
  "application/vnd.databricks.v1+notebook": {
   "computePreferences": null,
   "dashboards": [],
   "environmentMetadata": null,
   "inputWidgetPreferences": null,
   "language": "python",
   "notebookMetadata": {
    "mostRecentlyExecutedCommandWithImplicitDF": {
     "commandId": 6153931127662617,
     "dataframes": [
      "_sqldf"
     ]
    },
    "pythonIndentUnit": 4
   },
   "notebookName": "native",
   "widgets": {}
  },
  "language_info": {
   "name": "python"
  }
 },
 "nbformat": 4,
 "nbformat_minor": 0
}
