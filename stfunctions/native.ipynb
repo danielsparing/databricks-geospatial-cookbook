{
 "cells": [
  {
   "cell_type": "markdown",
   "metadata": {
    "application/vnd.databricks.v1+cell": {
     "cellMetadata": {},
     "inputWidgets": {},
     "nuid": "bad040f4-40f3-493c-9df5-d79a39d3946c",
     "showTitle": false,
     "tableResultSettingsMap": {},
     "title": ""
    }
   },
   "source": [
    "# Databricks Native ST geospatial functions\n",
    "\n",
    "Databricks SQL includes a large number of [ST geospatial functions](https://docs.databricks.com/aws/en/sql/language-manual/sql-ref-st-geospatial-functions) for large-scale, native processing of geodata. Just a few examples:"
   ]
  },
  {
   "cell_type": "markdown",
   "metadata": {
    "application/vnd.databricks.v1+cell": {
     "cellMetadata": {},
     "inputWidgets": {},
     "nuid": "d2ffafaa-ec2d-462e-b21a-109b04914a61",
     "showTitle": false,
     "tableResultSettingsMap": {},
     "title": ""
    }
   },
   "source": [
    "## Setup"
   ]
  },
  {
   "cell_type": "code",
   "execution_count": null,
   "metadata": {
    "application/vnd.databricks.v1+cell": {
     "cellMetadata": {
      "byteLimit": 2048000,
      "rowLimit": 10000
     },
     "inputWidgets": {},
     "nuid": "270ea053-4411-4c2c-a40a-2e96cb01265a",
     "showTitle": false,
     "tableResultSettingsMap": {},
     "title": ""
    }
   },
   "outputs": [],
   "source": [
    "CATALOG = \"workspace\"\n",
    "SCHEMA = \"default\"\n",
    "VOLUME = \"default\"\n",
    "\n",
    "spark.sql(f\"use {CATALOG}.{SCHEMA}\")"
   ]
  },
  {
   "cell_type": "markdown",
   "metadata": {
    "application/vnd.databricks.v1+cell": {
     "cellMetadata": {},
     "inputWidgets": {},
     "nuid": "2c90d625-6906-41bf-8f15-a0a7e46f5cd4",
     "showTitle": false,
     "tableResultSettingsMap": {},
     "title": ""
    }
   },
   "source": [
    "## GEOGRAPHY operations\n",
    "\n",
    "You can use `st_area`, `st_length` and `st_perimeter` directly on GEOGRAPHY (lon/lat) columns to get results in meters:"
   ]
  },
  {
   "cell_type": "code",
   "execution_count": null,
   "metadata": {
    "application/vnd.databricks.v1+cell": {
     "cellMetadata": {
      "byteLimit": 2048000,
      "implicitDf": true,
      "rowLimit": 10000
     },
     "inputWidgets": {},
     "nuid": "043782a8-6bbd-4f87-8aa2-24a0c366b6e3",
     "showTitle": false,
     "tableResultSettingsMap": {
      "0": {
       "dataGridStateBlob": "{\"version\":1,\"tableState\":{\"columnPinning\":{\"left\":[\"#row_number#\"],\"right\":[]},\"columnSizing\":{},\"columnVisibility\":{}},\"settings\":{\"columns\":{}},\"syncTimestamp\":1754629004417}",
       "filterBlob": null,
       "queryPlanFiltersBlob": null,
       "tableResultIndex": 0
      }
     },
     "title": ""
    }
   },
   "outputs": [],
   "source": [
    "%sql\n",
    "-- Areas of countries. Note that a country might not be listed if:\n",
    "-- - they don't have generally accepted borders, or\n",
    "-- - they cross the date line, leading to unsupported coordinates for `st_geogfromwkb` (hence the use of `try_to_geography`)\n",
    "select\n",
    "  country,\n",
    "  names:primary name,\n",
    "  st_area(try_to_geography(geometry)) / 1e6 area_km2\n",
    "from\n",
    "  carto_overture_maps_divisions.carto.division_area\n",
    "where\n",
    "  subtype = 'country'\n",
    "  and class = 'land'\n",
    "order by\n",
    "  area_km2 desc\n",
    "-- Returns:\n",
    "-- country\tname\tarea_km2\n",
    "-- CA\t\"\"\"Canada\"\"\"\t9966895.526025355\n",
    "-- US\t\"\"\"United States\"\"\"\t9476994.623136332\n",
    "-- CN\t\"\"\"中国\"\"\"\t9390439.241133066\n",
    "-- BR\t\"\"\"Brasil\"\"\"\t8507809.984099092\n",
    "-- IN\t\"\"\"India\"\"\"\t3149764.8857977577\n",
    "-- ..."
   ]
  },
  {
   "cell_type": "markdown",
   "metadata": {
    "application/vnd.databricks.v1+cell": {
     "cellMetadata": {},
     "inputWidgets": {},
     "nuid": "69d5cad0-8670-4982-a196-ba30ec48260d",
     "showTitle": false,
     "tableResultSettingsMap": {},
     "title": ""
    }
   },
   "source": [
    "If you store (lon, lat) point data as GEOGRAPHY, you can calculate distance in meters by converting to `GEOMETRY(4326)` first:"
   ]
  },
  {
   "cell_type": "code",
   "execution_count": null,
   "metadata": {
    "application/vnd.databricks.v1+cell": {
     "cellMetadata": {
      "byteLimit": 2048000,
      "implicitDf": true,
      "rowLimit": 10000
     },
     "inputWidgets": {},
     "nuid": "9a6e0e2d-d21b-4e7f-829a-0a2f2cc47739",
     "showTitle": false,
     "tableResultSettingsMap": {
      "0": {
       "dataGridStateBlob": "{\"version\":1,\"tableState\":{\"columnPinning\":{\"left\":[\"#row_number#\"],\"right\":[]},\"columnSizing\":{},\"columnVisibility\":{}},\"settings\":{\"columns\":{}},\"syncTimestamp\":1754632322022}",
       "filterBlob": null,
       "queryPlanFiltersBlob": null,
       "tableResultIndex": 0
      }
     },
     "title": ""
    }
   },
   "outputs": [],
   "source": [
    "%sql\n",
    "with cities as (\n",
    "  select\n",
    "    names:primary::string as name,\n",
    "    st_geogfromwkb(geometry) geog\n",
    "  from\n",
    "    carto_overture_maps_divisions.carto.division\n",
    "  where\n",
    "    subtype = 'locality'\n",
    "    and class = 'city'\n",
    "    -- just to speed up the lookup\n",
    "    and `__carto_xmax` between - 1.41 and 2.99\n",
    "    and `__carto_ymax` between 48.57 and 52.21\n",
    "),\n",
    "london as (\n",
    "  select\n",
    "    *\n",
    "  from\n",
    "    cities\n",
    "  where\n",
    "    name = \"London\"\n",
    "),\n",
    "paris as (\n",
    "  select\n",
    "    *\n",
    "  from\n",
    "    cities\n",
    "  where\n",
    "    name = \"Paris\"\n",
    ")\n",
    "select\n",
    "  st_distancespheroid(london.geog::geometry(4326), paris.geog::geometry(4326)) / 1e3 dist_km\n",
    "from\n",
    "  london,\n",
    "  paris\n",
    "--\n",
    "-- Returns:\n",
    "--\n",
    "-- dist_km\n",
    "-- 344.08532856606695"
   ]
  },
  {
   "cell_type": "markdown",
   "metadata": {
    "application/vnd.databricks.v1+cell": {
     "cellMetadata": {},
     "inputWidgets": {},
     "nuid": "d556fe6f-b906-4f62-8ab5-7bffd7c661a9",
     "showTitle": false,
     "tableResultSettingsMap": {},
     "title": ""
    }
   },
   "source": [
    "## GEOMETRY operations\n",
    "\n",
    "We can also calculate the distance in meters between two GEOMETRY lon-lat polygons (i.e. not just between points) if we transform to an appropriate local Cartesian coordinate system first:"
   ]
  },
  {
   "cell_type": "code",
   "execution_count": null,
   "metadata": {
    "application/vnd.databricks.v1+cell": {
     "cellMetadata": {
      "byteLimit": 2048000,
      "implicitDf": true,
      "rowLimit": 10000
     },
     "inputWidgets": {},
     "nuid": "357df58d-53e7-4344-b2f5-0eecb3a451b4",
     "showTitle": false,
     "tableResultSettingsMap": {},
     "title": ""
    }
   },
   "outputs": [],
   "source": [
    "%sql\n",
    "with dutch_provinces as (\n",
    "  select\n",
    "    names:primary::string as name,\n",
    "    -- 28992 is the SRID of the Dutch local Cartesian coordinate system:\n",
    "    -- https://epsg.io/28992\n",
    "    st_transform(st_geomfromwkb(geometry, 4326), 28992) geom_rd\n",
    "  from\n",
    "    carto_overture_maps_divisions.carto.division\n",
    "  where\n",
    "    subtype = 'region'\n",
    "    and country = 'NL'\n",
    "),\n",
    "noord_holland as (\n",
    "  select\n",
    "    *\n",
    "  from\n",
    "    dutch_provinces\n",
    "  where\n",
    "    name = \"Noord-Holland\"\n",
    "),\n",
    "noord_brabant as (\n",
    "  select\n",
    "    *\n",
    "  from\n",
    "    dutch_provinces\n",
    "  where\n",
    "    name = \"Noord-Brabant\"\n",
    ")\n",
    "select\n",
    "  st_distance(noord_holland.geom_rd, noord_brabant.geom_rd) / 1e3 dist_km\n",
    "from\n",
    "  noord_holland,\n",
    "  noord_brabant\n",
    "--\n",
    "-- Returns:\n",
    "--\n",
    "-- dist_km\n",
    "-- 131.66041515751186"
   ]
  },
  {
   "cell_type": "markdown",
   "metadata": {
    "application/vnd.databricks.v1+cell": {
     "cellMetadata": {},
     "inputWidgets": {},
     "nuid": "dc5a8e14-f302-4697-b11f-954c0f8e518f",
     "showTitle": false,
     "tableResultSettingsMap": {},
     "title": ""
    }
   },
   "source": [
    ":::{.callout-notes}\n",
    "\n",
    "If you want to find the actual shortest line as well, not just the distance, see [how to define UDFs with DuckDB](duckdb_udf.ipynb).\n",
    "\n",
    ":::"
   ]
  },
  {
   "cell_type": "markdown",
   "metadata": {
    "application/vnd.databricks.v1+cell": {
     "cellMetadata": {},
     "inputWidgets": {},
     "nuid": "c7a07bd1-0036-40ae-899b-58547e8d0983",
     "showTitle": false,
     "tableResultSettingsMap": {},
     "title": ""
    }
   },
   "source": [
    "## Spatial join\n",
    "\n",
    "Optimizing for efficient spatial joins is out of scope here -- you'd need to use some spatial indexing such as [H3](https://docs.databricks.com/aws/en/sql/language-manual/sql-ref-h3-geospatial-functions). (Databricks might add support to spatial joins of GEOMETRY/GEOGRAPHY types over time, but as of Aug 2025, using an explicit spatial index is highly benefitial.)\n",
    "\n",
    "We were using the Delta Lake tables of Overture Maps provided by CARTO as our examples. Notice that these are clustered by the `__carto_[x|y][min|max]` columns:"
   ]
  },
  {
   "cell_type": "code",
   "execution_count": null,
   "metadata": {
    "application/vnd.databricks.v1+cell": {
     "cellMetadata": {
      "byteLimit": 2048000,
      "implicitDf": true,
      "rowLimit": 10000
     },
     "inputWidgets": {},
     "nuid": "9a24e393-edc2-4fe8-ad4e-3017cc62b5de",
     "showTitle": false,
     "tableResultSettingsMap": {},
     "title": ""
    }
   },
   "outputs": [],
   "source": [
    "%sql\n",
    "describe extended carto_overture_maps_divisions.carto.division\n",
    "--\n",
    "-- Returns:\n",
    "--\n",
    "-- ...\n",
    "-- # Clustering Information\n",
    "-- # col_name\tdata_type\n",
    "-- __carto_xmin\tdouble\n",
    "-- __carto_xmax\tdouble\n",
    "-- __carto_ymin\tdouble\n",
    "-- __carto_ymax\tdouble"
   ]
  },
  {
   "cell_type": "markdown",
   "metadata": {
    "application/vnd.databricks.v1+cell": {
     "cellMetadata": {},
     "inputWidgets": {},
     "nuid": "d2a500ec-8c19-45b6-9a43-9c3a2e430412",
     "showTitle": false,
     "tableResultSettingsMap": {},
     "title": ""
    }
   },
   "source": [
    "So in the case of these tables, we can make use of these columns for efficient joins, filtering for bounding boxes before calling `st_contains` (or `st_intersects`) for a precise join.\n",
    "\n",
    "Let's fetch all buildings of Amsterdam:"
   ]
  },
  {
   "cell_type": "code",
   "execution_count": null,
   "metadata": {
    "application/vnd.databricks.v1+cell": {
     "cellMetadata": {
      "byteLimit": 2048000,
      "implicitDf": true,
      "rowLimit": 10000
     },
     "inputWidgets": {},
     "nuid": "397cf8b3-9ecc-437d-ad96-109c2197b612",
     "showTitle": false,
     "tableResultSettingsMap": {},
     "title": ""
    }
   },
   "outputs": [],
   "source": [
    "%sql\n",
    "-- capture the city bbox in a table\n",
    "create or replace table tmp_ams as\n",
    "select\n",
    "  st_geomfromwkb(geometry) geometry, `__carto_xmin`, `__carto_xmax`, `__carto_ymin`, `__carto_ymax`\n",
    "from\n",
    "  carto_overture_maps_divisions.carto.division_area\n",
    "where\n",
    "  country = 'NL'\n",
    "  and subtype = 'county'\n",
    "  and names:primary::string = \"Amsterdam\""
   ]
  },
  {
   "cell_type": "markdown",
   "metadata": {
    "application/vnd.databricks.v1+cell": {
     "cellMetadata": {},
     "inputWidgets": {},
     "nuid": "f33aac9d-89cf-4c0a-a823-3e58ba4364a8",
     "showTitle": false,
     "tableResultSettingsMap": {},
     "title": ""
    }
   },
   "source": [
    "We'll fetch the bbox values from above to inject into the SQL query below -- yes, it would be way more elegant to avoid hardcoding and use a join, but as of current testing, this is way faster."
   ]
  },
  {
   "cell_type": "code",
   "execution_count": null,
   "metadata": {
    "application/vnd.databricks.v1+cell": {
     "cellMetadata": {
      "byteLimit": 2048000,
      "implicitDf": true,
      "rowLimit": 10000
     },
     "inputWidgets": {},
     "nuid": "8db7cacc-8191-43aa-97d9-55bd4f5f1599",
     "showTitle": false,
     "tableResultSettingsMap": {},
     "title": ""
    }
   },
   "outputs": [],
   "source": [
    "bbox = spark.table(\"tmp_ams\").toPandas().iloc[0,]\n",
    "\n",
    "spark.sql(f\"\"\"create or replace table tmp_ams_buildings_bbox as\n",
    "select\n",
    "  building.* except (geometry),\n",
    "  st_geomfromwkb(building.geometry) building_geometry\n",
    "from\n",
    "  -- first approximate join on bounding boxes\n",
    "  carto_overture_maps_buildings.carto.building\n",
    "where\n",
    "  building.__carto_xmin between {bbox[\"__carto_xmin\"]} and {bbox[\"__carto_xmax\"]}\n",
    "  and building.__carto_ymin between {bbox[\"__carto_ymin\"]}\n",
    "    and {bbox[\"__carto_ymax\"]}\"\"\")"
   ]
  },
  {
   "cell_type": "markdown",
   "metadata": {
    "application/vnd.databricks.v1+cell": {
     "cellMetadata": {},
     "inputWidgets": {},
     "nuid": "3110f926-b033-42ae-acf6-b75a2c517711",
     "showTitle": false,
     "tableResultSettingsMap": {},
     "title": ""
    }
   },
   "source": [
    "Now we can filter with `st_contains` to leave out the false positives:"
   ]
  },
  {
   "cell_type": "code",
   "execution_count": null,
   "metadata": {
    "application/vnd.databricks.v1+cell": {
     "cellMetadata": {
      "byteLimit": 2048000,
      "implicitDf": true,
      "rowLimit": 10000
     },
     "inputWidgets": {},
     "nuid": "2a8ed129-701d-4591-a462-c664af6f2118",
     "showTitle": false,
     "tableResultSettingsMap": {},
     "title": ""
    }
   },
   "outputs": [],
   "source": [
    "%sql\n",
    "create or replace table tmp_ams_buildings as\n",
    "select\n",
    "  b.*\n",
    "from\n",
    "  tmp_ams join\n",
    "  tmp_ams_buildings_bbox b on\n",
    "-- then more precise filter on `st_contains`\n",
    "  st_contains(tmp_ams.geometry, building_geometry)"
   ]
  },
  {
   "cell_type": "code",
   "execution_count": null,
   "metadata": {},
   "outputs": [],
   "source": [
    "%pip install duckdb lonboard shapely --quiet"
   ]
  },
  {
   "cell_type": "code",
   "execution_count": null,
   "metadata": {
    "application/vnd.databricks.v1+cell": {
     "cellMetadata": {
      "byteLimit": 2048000,
      "rowLimit": 10000
     },
     "inputWidgets": {},
     "nuid": "1eab4a3b-56d8-481c-a43f-46a68880040e",
     "showTitle": false,
     "tableResultSettingsMap": {},
     "title": ""
    }
   },
   "outputs": [],
   "source": [
    "def spark_viz(df, wkb_col=\"geometry\", other_cols=None, limit=10_000, output_html=None):\n",
    "    # needs `%pip install duckdb lonboard shapely`\n",
    "\n",
    "    if other_cols is None:\n",
    "        other_cols = []\n",
    "\n",
    "    import duckdb\n",
    "    from lonboard import viz\n",
    "\n",
    "    try:\n",
    "        duckdb.load_extension(\"spatial\")\n",
    "    except duckdb.duckdb.IOException:\n",
    "        duckdb.install_extension(\"spatial\")\n",
    "        duckdb.load_extension(\"spatial\")\n",
    "\n",
    "    dfa = df.select([wkb_col] + other_cols).limit(limit).toArrow()\n",
    "    if dfa.num_rows == limit:\n",
    "        print(f\"Data truncated to limit {limit}\")\n",
    "\n",
    "    query = duckdb.sql(\n",
    "        f\"\"\"select * replace (st_geomfromwkb({wkb_col}) as {wkb_col})\n",
    "        from dfa\n",
    "        where {wkb_col} is not null\"\"\"\n",
    "    )\n",
    "    if output_html is None:\n",
    "        return viz(query).as_html()\n",
    "    else:\n",
    "        viz(query).to_html(output_html)\n",
    "        return output_html"
   ]
  },
  {
   "cell_type": "code",
   "execution_count": null,
   "metadata": {
    "application/vnd.databricks.v1+cell": {
     "cellMetadata": {
      "byteLimit": 2048000,
      "rowLimit": 10000
     },
     "inputWidgets": {},
     "nuid": "10e22957-6e45-4abd-b786-e5c08c9421bd",
     "showTitle": false,
     "tableResultSettingsMap": {},
     "title": ""
    }
   },
   "outputs": [],
   "source": [
    "spark_viz(\n",
    "    spark.table(\"tmp_ams_buildings\").selectExpr(\n",
    "        \"st_asbinary(building_geometry) as geometry\"\n",
    "    )\n",
    ")"
   ]
  },
  {
   "cell_type": "markdown",
   "metadata": {
    "application/vnd.databricks.v1+cell": {
     "cellMetadata": {},
     "inputWidgets": {},
     "nuid": "e851d5ef-b68b-49c1-8b1d-9c5a84067e55",
     "showTitle": false,
     "tableResultSettingsMap": {},
     "title": ""
    }
   },
   "source": [
    "![ams_buildings_10k](img/ams_buildings_10k.png)\n",
    "\n",
    "If you want to see a much larger sample (or possibly the whole dataset), you'll need to output to a HTML into Volumes, download the file and open it locally:"
   ]
  },
  {
   "cell_type": "code",
   "execution_count": null,
   "metadata": {
    "application/vnd.databricks.v1+cell": {
     "cellMetadata": {
      "byteLimit": 2048000,
      "rowLimit": 10000
     },
     "inputWidgets": {},
     "nuid": "38c46dd0-5fa6-4144-8b48-4eed274fe6ea",
     "showTitle": false,
     "tableResultSettingsMap": {},
     "title": ""
    }
   },
   "outputs": [],
   "source": [
    "spark_viz(\n",
    "    spark.table(\"tmp_ams_buildings\").selectExpr(\n",
    "        \"st_asbinary(building_geometry) as geometry\"\n",
    "    ),\n",
    "    limit=1_000_000,\n",
    "    output_html=f\"/Volumes/{CATALOG}/{SCHEMA}/{VOLUME}/ams_buildings.html\",\n",
    ")"
   ]
  },
  {
   "cell_type": "markdown",
   "metadata": {
    "application/vnd.databricks.v1+cell": {
     "cellMetadata": {},
     "inputWidgets": {},
     "nuid": "fd859fe9-e468-497c-8ddb-d9dd21608c84",
     "showTitle": false,
     "tableResultSettingsMap": {},
     "title": ""
    }
   },
   "source": [
    "![ams-all-buildings](img/ams_all_buildings.png)"
   ]
  },
  {
   "cell_type": "markdown",
   "metadata": {
    "application/vnd.databricks.v1+cell": {
     "cellMetadata": {},
     "inputWidgets": {},
     "nuid": "9b12f6e1-c001-45b8-9ec2-1e8bdc2659ce",
     "showTitle": false,
     "tableResultSettingsMap": {},
     "title": ""
    }
   },
   "source": [
    "## Cleanup"
   ]
  },
  {
   "cell_type": "code",
   "execution_count": null,
   "metadata": {
    "application/vnd.databricks.v1+cell": {
     "cellMetadata": {},
     "inputWidgets": {},
     "nuid": "73b5a8c2-1daf-4ad6-94a8-844682ba60cb",
     "showTitle": false,
     "tableResultSettingsMap": {},
     "title": ""
    }
   },
   "outputs": [],
   "source": [
    "%sql\n",
    "-- drop table tmp_ams\n",
    "-- drop table tmp_ams_buildings"
   ]
  }
 ],
 "metadata": {
  "application/vnd.databricks.v1+notebook": {
   "computePreferences": {
    "hardware": {
     "accelerator": null,
     "gpuPoolId": null,
     "memory": null
    }
   },
   "dashboards": [],
   "environmentMetadata": null,
   "inputWidgetPreferences": null,
   "language": "python",
   "notebookMetadata": {
    "mostRecentlyExecutedCommandWithImplicitDF": {
     "commandId": 6153931127662742,
     "dataframes": [
      "_sqldf"
     ]
    },
    "pythonIndentUnit": 4
   },
   "notebookName": "native",
   "widgets": {}
  },
  "language_info": {
   "name": "python"
  }
 },
 "nbformat": 4,
 "nbformat_minor": 0
}
