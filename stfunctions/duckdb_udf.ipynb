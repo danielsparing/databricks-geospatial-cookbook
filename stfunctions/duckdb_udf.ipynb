{
 "cells": [
  {
   "cell_type": "markdown",
   "metadata": {
    "application/vnd.databricks.v1+cell": {
     "cellMetadata": {},
     "inputWidgets": {},
     "nuid": "6f40300e-b2d1-4bfa-a16f-b7c3657bdacf",
     "showTitle": false,
     "tableResultSettingsMap": {},
     "title": ""
    }
   },
   "source": [
    "# Define a Spark UDF using a DuckDB Spatial function\n",
    "\n",
    "Databricks SQL now contains lots of [ST Functions](https://docs.databricks.com/aws/en/sql/language-manual/sql-ref-st-geospatial-functions). However, at some point you might just need a geospatial function not (yet) available natively in Databricks, but maybe available in DuckDB Spatial. For example, as of Aug 2025, the `st_shortestline` function.\n",
    "\n",
    "Then we can register the DuckDB function as a Spark UDF as follows:"
   ]
  },
  {
   "cell_type": "markdown",
   "metadata": {
    "application/vnd.databricks.v1+cell": {
     "cellMetadata": {},
     "inputWidgets": {},
     "nuid": "f3310d89-4416-4751-9f4f-bded4e84c9a5",
     "showTitle": false,
     "tableResultSettingsMap": {},
     "title": ""
    }
   },
   "source": [
    "## Setup"
   ]
  },
  {
   "cell_type": "code",
   "execution_count": null,
   "metadata": {
    "application/vnd.databricks.v1+cell": {
     "cellMetadata": {
      "byteLimit": 2048000,
      "rowLimit": 10000
     },
     "inputWidgets": {},
     "nuid": "99e439ed-8b0a-466b-86fb-0783afaf9267",
     "showTitle": false,
     "tableResultSettingsMap": {},
     "title": ""
    }
   },
   "outputs": [],
   "source": [
    "%pip install duckdb lonboard shapely --quiet\n",
    "\n",
    "import duckdb\n",
    "import pandas as pd\n",
    "from pyspark.sql import functions as F\n",
    "from pyspark.sql.types import BinaryType"
   ]
  },
  {
   "cell_type": "markdown",
   "metadata": {
    "application/vnd.databricks.v1+cell": {
     "cellMetadata": {},
     "inputWidgets": {},
     "nuid": "8a914b9a-b157-471e-b968-35459adbbfd5",
     "showTitle": false,
     "tableResultSettingsMap": {},
     "title": ""
    }
   },
   "source": [
    "## Define the Spark UDF based on a DuckDB Spatial function"
   ]
  },
  {
   "cell_type": "code",
   "execution_count": null,
   "metadata": {
    "application/vnd.databricks.v1+cell": {
     "cellMetadata": {
      "byteLimit": 2048000,
      "rowLimit": 10000
     },
     "inputWidgets": {},
     "nuid": "8f2100a9-9307-4b18-9c97-5ba34859ae4f",
     "showTitle": false,
     "tableResultSettingsMap": {},
     "title": ""
    }
   },
   "outputs": [],
   "source": [
    "def shortestline_func(a: pd.Series, b: pd.Series) -> pd.Series:\n",
    "    try:\n",
    "        import duckdb\n",
    "        from duckdb import ColumnExpression, FunctionExpression\n",
    "    except ModuleNotFoundError as mfe:\n",
    "        raise Exception(\n",
    "            \"'duckdb' not installed: run '%pip install duckdb' first.\"\n",
    "        ) from mfe\n",
    "\n",
    "    duckdb.sql(\"SET extension_directory = '/tmp/duckdb_ext'\")\n",
    "    try:\n",
    "        duckdb.load_extension(\"spatial\")\n",
    "    except duckdb.duckdb.IOException:\n",
    "        duckdb.install_extension(\"spatial\")\n",
    "        duckdb.load_extension(\"spatial\")\n",
    "\n",
    "    df = pd.DataFrame({\"a\": a, \"b\": b})  # noqa: F841\n",
    "\n",
    "    res = (\n",
    "        duckdb.df(df)\n",
    "        .select(\n",
    "            FunctionExpression(\n",
    "                \"st_aswkb\",\n",
    "                FunctionExpression(\n",
    "                    \"st_shortestline\",\n",
    "                    FunctionExpression(\"st_geomfromwkb\", ColumnExpression(\"a\")),\n",
    "                    FunctionExpression(\"st_geomfromwkb\", ColumnExpression(\"b\")),\n",
    "                ),\n",
    "            ).alias(\"res\")\n",
    "        )\n",
    "        .df()[\"res\"]\n",
    "    )\n",
    "\n",
    "    return res\n",
    "\n",
    "\n",
    "st_duckdb_shortestline = F.pandas_udf(shortestline_func, returnType=BinaryType())"
   ]
  },
  {
   "cell_type": "code",
   "execution_count": null,
   "metadata": {
    "application/vnd.databricks.v1+cell": {
     "cellMetadata": {
      "byteLimit": 2048000,
      "rowLimit": 10000
     },
     "inputWidgets": {},
     "nuid": "3a4f5157-a773-4bc2-a334-96444f34914d",
     "showTitle": false,
     "tableResultSettingsMap": {},
     "title": ""
    }
   },
   "outputs": [],
   "source": [
    "spark.udf.register(\"st_duckdb_shortestline\", st_duckdb_shortestline)"
   ]
  },
  {
   "cell_type": "markdown",
   "metadata": {
    "application/vnd.databricks.v1+cell": {
     "cellMetadata": {},
     "inputWidgets": {},
     "nuid": "791f124b-e46e-44e6-b11d-0cd09fa2884d",
     "showTitle": false,
     "tableResultSettingsMap": {},
     "title": ""
    }
   },
   "source": [
    "## Usage example\n",
    "\n",
    "::: {.callout-tip}\n",
    "\n",
    "This example uses the CARTO/Overture Maps datasets that you can add to your workspace via the [Marketplace](https://marketplace.databricks.com/provider/dd56dcf4-cb70-449e-abad-c8038c0de3d9/CARTO).\n",
    "\n",
    ":::\n",
    "\n",
    "::: {.callout-caution}\n",
    "\n",
    "The CARTO/Overture Maps tables are stored in `us-west-2` as of writing, so if you are _not_ using Databricks Free Edition and you are in any other region, you will have to pay egress charges based on the amount of data you read.\n",
    "\n",
    ":::"
   ]
  },
  {
   "cell_type": "code",
   "execution_count": null,
   "metadata": {
    "application/vnd.databricks.v1+cell": {
     "cellMetadata": {
      "byteLimit": 2048000,
      "implicitDf": true,
      "rowLimit": 10000
     },
     "inputWidgets": {},
     "nuid": "310bc8c2-5d7f-4d4f-bf9d-d5a240867f11",
     "showTitle": false,
     "tableResultSettingsMap": {},
     "title": ""
    }
   },
   "outputs": [],
   "source": [
    "%sql\n",
    "create or replace temporary view lamanche as\n",
    "with england as (\n",
    "  select\n",
    "    geometry\n",
    "  from\n",
    "    carto_overture_maps_divisions.carto.division_area\n",
    "  where\n",
    "    subtype = 'country'\n",
    "    and country = 'GB'\n",
    "    and class = 'land'\n",
    "),\n",
    "france as (\n",
    "  select\n",
    "    geometry\n",
    "  from\n",
    "    carto_overture_maps_divisions.carto.division_area\n",
    "  where\n",
    "    subtype = 'country'\n",
    "    and country = 'FR'\n",
    "    and class = 'land'\n",
    ")\n",
    "select\n",
    "  st_duckdb_shortestline(england.geometry, france.geometry) geometry\n",
    "from\n",
    "  england,\n",
    "  france"
   ]
  },
  {
   "cell_type": "markdown",
   "metadata": {
    "application/vnd.databricks.v1+cell": {
     "cellMetadata": {},
     "inputWidgets": {},
     "nuid": "72d03253-697a-4660-9b6c-cd213464e900",
     "showTitle": false,
     "tableResultSettingsMap": {},
     "title": ""
    }
   },
   "source": [
    "::: {.callout-note}\n",
    "\n",
    "Nit: To correctly calculate `shortestline` in the Eucledian sense, we should actually transform lon/lat to an SRID that maintains the angles, such as EPSG:3857. (Then, if we were interested in the length of it in meters, we could transform back to lon/lat and use [st_distancespheroid](https://docs.databricks.com/aws/en/sql/language-manual/functions/st_distancespheroid).)\n",
    "\n",
    "To keep this example simple, we'll now calculate the shortest line in the lat/lon coordinate system -- we will get a quite similar result in this example of Calais-Dover.\n",
    "\n",
    "\n",
    ":::\n"
   ]
  },
  {
   "cell_type": "markdown",
   "metadata": {
    "application/vnd.databricks.v1+cell": {
     "cellMetadata": {},
     "inputWidgets": {},
     "nuid": "8cf72946-c5d1-4083-bd77-3e91f1e28d4e",
     "showTitle": false,
     "tableResultSettingsMap": {},
     "title": ""
    }
   },
   "source": [
    "## Visualizing the result\n",
    "\n",
    "Let's visualize the result with [Lonboard](../viz/lonboard.ipynb):"
   ]
  },
  {
   "cell_type": "code",
   "execution_count": null,
   "metadata": {
    "application/vnd.databricks.v1+cell": {
     "cellMetadata": {
      "byteLimit": 2048000,
      "rowLimit": 10000
     },
     "inputWidgets": {},
     "nuid": "0a604465-bafc-4b69-9db1-06cbf83885f8",
     "showTitle": false,
     "tableResultSettingsMap": {},
     "title": ""
    }
   },
   "outputs": [],
   "source": [
    "def spark_viz(df, wkb_col=\"geometry\", other_cols=None, limit=10_000, output_html=None):\n",
    "    # needs `%pip install duckdb lonboard shapely`\n",
    "\n",
    "    if other_cols is None:\n",
    "        other_cols = []\n",
    "\n",
    "    from lonboard import viz\n",
    "\n",
    "    try:\n",
    "        duckdb.load_extension(\"spatial\")\n",
    "    except duckdb.duckdb.IOException:\n",
    "        duckdb.install_extension(\"spatial\")\n",
    "        duckdb.load_extension(\"spatial\")\n",
    "\n",
    "    dfa = df.select([wkb_col] + other_cols).limit(limit).toArrow()\n",
    "    if dfa.num_rows == limit:\n",
    "        print(f\"Data truncated to limit {limit}\")\n",
    "\n",
    "    query = duckdb.sql(\n",
    "        f\"\"\"select * replace (st_geomfromwkb({wkb_col}) as {wkb_col})\n",
    "        from dfa\n",
    "        where {wkb_col} is not null\"\"\"\n",
    "    )\n",
    "    if output_html is None:\n",
    "        return viz(query).as_html()\n",
    "    else:\n",
    "        viz(query).to_html(output_html)\n",
    "        return output_html"
   ]
  },
  {
   "cell_type": "code",
   "execution_count": null,
   "metadata": {
    "application/vnd.databricks.v1+cell": {
     "cellMetadata": {
      "byteLimit": 2048000,
      "rowLimit": 10000
     },
     "inputWidgets": {},
     "nuid": "47399fc5-08c1-4fa2-8bc7-3aa92a5ecb3f",
     "showTitle": false,
     "tableResultSettingsMap": {},
     "title": ""
    }
   },
   "outputs": [],
   "source": [
    "spark_viz(spark.table(\"lamanche\"))"
   ]
  },
  {
   "cell_type": "markdown",
   "metadata": {
    "application/vnd.databricks.v1+cell": {
     "cellMetadata": {},
     "inputWidgets": {},
     "nuid": "d886f82e-7bd5-4501-a36c-8394f7579e9b",
     "showTitle": false,
     "tableResultSettingsMap": {},
     "title": ""
    }
   },
   "source": [
    "![lamanche](img/lamanche.png)"
   ]
  }
 ],
 "metadata": {
  "application/vnd.databricks.v1+notebook": {
   "computePreferences": {
    "hardware": {
     "accelerator": null,
     "gpuPoolId": null,
     "memory": null
    }
   },
   "dashboards": [],
   "environmentMetadata": {
    "base_environment": "",
    "environment_version": "2"
   },
   "inputWidgetPreferences": null,
   "language": "python",
   "notebookMetadata": {
    "mostRecentlyExecutedCommandWithImplicitDF": {
     "commandId": 5806146012475158,
     "dataframes": [
      "_sqldf"
     ]
    },
    "pythonIndentUnit": 4
   },
   "notebookName": "duckdb_udf",
   "widgets": {}
  },
  "kernelspec": {
   "display_name": "venv (3.13.3)",
   "language": "python",
   "name": "python3"
  },
  "language_info": {
   "name": "python"
  }
 },
 "nbformat": 4,
 "nbformat_minor": 0
}
