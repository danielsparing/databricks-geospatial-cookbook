{
 "cells": [
  {
   "cell_type": "markdown",
   "metadata": {
    "application/vnd.databricks.v1+cell": {
     "cellMetadata": {},
     "inputWidgets": {},
     "nuid": "54e5fc32-b137-4b8c-add5-8e09cc71523d",
     "showTitle": false,
     "tableResultSettingsMap": {},
     "title": ""
    }
   },
   "source": [
    "# Install DuckDB Extensions via HTTPS\n",
    "\n",
    "::: {.callout-note}\n",
    "\n",
    "This issue should not come up on Databricks Free Edition, as there you're using Serverless and the network is set up by Databricks.\n",
    "\n",
    ":::\n",
    "\n",
    "If your network blocks HTTP requests, you cannot simply install DuckDB extensions by e.g. `INSTALL spatial;` (it will fail after ~10 minutes), because of the dependency on `httpfs`, an extension itself -- see details [here](https://github.com/duckdb/duckdb/issues/15735).\n",
    "\n",
    "The workaround is to separately download the `httpfs` extension:"
   ]
  },
  {
   "cell_type": "code",
   "execution_count": null,
   "metadata": {
    "application/vnd.databricks.v1+cell": {
     "cellMetadata": {
      "byteLimit": 2048000,
      "rowLimit": 10000
     },
     "inputWidgets": {},
     "nuid": "7c328c8b-8cc1-4d8d-9d60-a459dc7223ae",
     "showTitle": false,
     "tableResultSettingsMap": {},
     "title": ""
    }
   },
   "outputs": [],
   "source": [
    "%pip install duckdb --quiet\n",
    "\n",
    "import os\n",
    "import platform\n",
    "from urllib.parse import urlparse\n",
    "\n",
    "import duckdb\n",
    "import requests\n",
    "\n",
    "arch = platform.machine()\n",
    "if arch == \"x86_64\":\n",
    "    architecture = \"linux_amd64\"\n",
    "elif arch == \"aarch64\":\n",
    "    architecture = \"linux_arm64\"\n",
    "else:\n",
    "    raise Exception(f\"unknown_arch: {arch}\")\n",
    "\n",
    "duckdb_version = duckdb.__version__\n",
    "url = f\"https://extensions.duckdb.org/v{duckdb_version}/{architecture}/httpfs.duckdb_extension.gz\"\n",
    "\n",
    "output_file = os.path.basename(urlparse(url).path)\n",
    "response = requests.get(url, timeout=30)\n",
    "response.raise_for_status()\n",
    "with open(output_file, \"wb\") as f:\n",
    "    f.write(response.content)\n",
    "\n",
    "duckdb.install_extension(output_file)\n",
    "\n",
    "os.remove(output_file)\n",
    "\n",
    "duckdb.sql(\"SET custom_extension_repository='https://extensions.duckdb.org'\")"
   ]
  },
  {
   "cell_type": "markdown",
   "metadata": {
    "application/vnd.databricks.v1+cell": {
     "cellMetadata": {},
     "inputWidgets": {},
     "nuid": "21349993-68d0-445d-b586-7aa26cc62472",
     "showTitle": false,
     "tableResultSettingsMap": {},
     "title": ""
    }
   },
   "source": [
    "And now you can install other extensions, such as:"
   ]
  },
  {
   "cell_type": "code",
   "execution_count": null,
   "metadata": {
    "application/vnd.databricks.v1+cell": {
     "cellMetadata": {
      "byteLimit": 2048000,
      "rowLimit": 10000
     },
     "inputWidgets": {},
     "nuid": "72c60666-cb0d-40d4-89ad-469152e5f71f",
     "showTitle": false,
     "tableResultSettingsMap": {},
     "title": ""
    }
   },
   "outputs": [],
   "source": [
    "duckdb.sql(\"install spatial; load spatial\")"
   ]
  }
 ],
 "metadata": {
  "application/vnd.databricks.v1+notebook": {
   "computePreferences": null,
   "dashboards": [],
   "environmentMetadata": {
    "base_environment": "",
    "environment_version": "2"
   },
   "inputWidgetPreferences": null,
   "language": "python",
   "notebookMetadata": {
    "pythonIndentUnit": 4
   },
   "notebookName": "https_install_duckdbextension",
   "widgets": {}
  },
  "language_info": {
   "name": "python"
  }
 },
 "nbformat": 4,
 "nbformat_minor": 0
}
