{
 "cells": [
  {
   "cell_type": "markdown",
   "metadata": {
    "application/vnd.databricks.v1+cell": {
     "cellMetadata": {
      "byteLimit": 2048000,
      "rowLimit": 10000
     },
     "inputWidgets": {},
     "nuid": "b551d229-27b6-43f4-9445-5e8df26c0e39",
     "showTitle": false,
     "tableResultSettingsMap": {},
     "title": ""
    }
   },
   "source": [
    "\n",
    "# How to install `ogr2ogr` in a Databricks notebook (incl. Parquet support)"
   ]
  },
  {
   "cell_type": "markdown",
   "metadata": {
    "application/vnd.databricks.v1+cell": {
     "cellMetadata": {
      "byteLimit": 2048000,
      "rowLimit": 10000
     },
     "inputWidgets": {},
     "nuid": "c5165fec-33eb-44ba-a0f8-c812276c735e",
     "showTitle": false,
     "tableResultSettingsMap": {},
     "title": ""
    }
   },
   "source": [
    "::: {.callout-note}\n",
    "\n",
    "This was tested on Serverless notebook, Environment version 2, as well as on a classic notebook with DBR 15.4 LTS.\n",
    "\n",
    ":::"
   ]
  },
  {
   "cell_type": "markdown",
   "metadata": {
    "application/vnd.databricks.v1+cell": {
     "cellMetadata": {
      "byteLimit": 2048000,
      "rowLimit": 10000
     },
     "inputWidgets": {},
     "nuid": "413962cd-b816-46e2-99fd-5fe9998c4f8f",
     "showTitle": false,
     "tableResultSettingsMap": {},
     "title": ""
    }
   },
   "source": [
    "`ogr2ogr` is a geospatial file conversion tool, part of [GDAL](https://gdal.org/). For example, you can use it to read in a directory of GML (geo XML) files, and write them out to GeoPackage (`.gpkg`), or even GeoParquet. You could first try the [duckdb way](../other_formats/import.ipynb) (also using GDAL under the hood), but in some more complex cases you might need to use `gdal` CLI yourself.\n",
    "\n",
    "::: {.callout-note}\n",
    "\n",
    "Note that this installation method only installs `gdal` on the driver, so it won't take advantage of a multi-node cluster, but you can still run `gdal` command line tools on a single-node cluster if needed.\n",
    "\n",
    ":::\n",
    "\n",
    "In theory, on a classic (non-serverless) Compute, we could just run `apt-get install -y gdal-bin`, but as of Aug 2025 this would not include Parquet support yet. Instead, the `libgdal-arrow-parquet` extension package that we need [can be installed](https://gdal.org/en/stable/download.html#conda) via conda-forge. So let's first install conda-forge [^1]:\n",
    "\n",
    "[^1]: The curl download link comes from [conda-forge](https://conda-forge.org/download) and their installation [instructions](https://github.com/conda-forge/miniforge?tab=readme-ov-file#install) on GitHub."
   ]
  },
  {
   "cell_type": "code",
   "execution_count": null,
   "metadata": {
    "application/vnd.databricks.v1+cell": {
     "cellMetadata": {
      "byteLimit": 2048000,
      "rowLimit": 10000
     },
     "inputWidgets": {},
     "nuid": "1d968b44-874e-4566-8e20-01241d0350ae",
     "showTitle": false,
     "tableResultSettingsMap": {},
     "title": ""
    }
   },
   "outputs": [],
   "source": [
    "import os"
   ]
  },
  {
   "cell_type": "code",
   "execution_count": null,
   "metadata": {
    "application/vnd.databricks.v1+cell": {
     "cellMetadata": {
      "byteLimit": 2048000,
      "rowLimit": 10000
     },
     "inputWidgets": {},
     "nuid": "210008a6-3e93-4779-b545-738c8b5aa453",
     "showTitle": false,
     "tableResultSettingsMap": {},
     "title": ""
    }
   },
   "outputs": [],
   "source": [
    "!curl -L -O \"https://github.com/conda-forge/miniforge/releases/latest/download/Miniforge3-$(uname)-$(uname -m).sh\"\n",
    "!bash Miniforge3-$(uname)-$(uname -m).sh -b -p  ~/miniforge\n",
    "!rm Miniforge3-$(uname)-$(uname -m).sh\n",
    "\n",
    "os.environ[\"PATH\"] = \"~/miniforge/bin:\" + os.environ[\"PATH\"]"
   ]
  },
  {
   "cell_type": "markdown",
   "metadata": {
    "application/vnd.databricks.v1+cell": {
     "cellMetadata": {
      "byteLimit": 2048000,
      "rowLimit": 10000
     },
     "inputWidgets": {},
     "nuid": "331e2306-90dc-4fec-bc9d-82ae60dbad66",
     "showTitle": false,
     "tableResultSettingsMap": {},
     "title": ""
    }
   },
   "source": [
    "Now we can add arrow/parquet support:"
   ]
  },
  {
   "cell_type": "code",
   "execution_count": null,
   "metadata": {
    "application/vnd.databricks.v1+cell": {
     "cellMetadata": {
      "byteLimit": 2048000,
      "rowLimit": 10000
     },
     "inputWidgets": {},
     "nuid": "884239d0-f1b4-4cf2-91ca-93784e846763",
     "showTitle": false,
     "tableResultSettingsMap": {},
     "title": ""
    },
    "colab": {
     "base_uri": "https://localhost:8080/"
    },
    "id": "ADcVGHrrFZps",
    "outputId": "38f9b450-9c79-4d5a-cc7c-59391084b628"
   },
   "outputs": [],
   "source": [
    "!conda install libgdal-arrow-parquet -y\n",
    "\n",
    "os.environ[\"PROJ_LIB\"] = f\"{os.path.expanduser('~')}/miniforge/share/proj\""
   ]
  },
  {
   "cell_type": "markdown",
   "metadata": {
    "application/vnd.databricks.v1+cell": {
     "cellMetadata": {
      "byteLimit": 2048000,
      "rowLimit": 10000
     },
     "inputWidgets": {},
     "nuid": "62e3f55a-83e9-4cac-affa-d212c9ed1452",
     "showTitle": false,
     "tableResultSettingsMap": {},
     "title": ""
    }
   },
   "source": [
    "And that's it:"
   ]
  },
  {
   "cell_type": "code",
   "execution_count": null,
   "metadata": {
    "application/vnd.databricks.v1+cell": {
     "cellMetadata": {
      "byteLimit": 2048000,
      "rowLimit": 10000
     },
     "inputWidgets": {},
     "nuid": "1cfe76b0-780d-4596-b28a-4d65b43fc431",
     "showTitle": false,
     "tableResultSettingsMap": {},
     "title": ""
    },
    "colab": {
     "base_uri": "https://localhost:8080/"
    },
    "id": "QIeFAsDdF3IA",
    "outputId": "f872a4d1-8c8c-4c14-8fae-e994c845b929"
   },
   "outputs": [],
   "source": [
    "!ogr2ogr --formats | grep parquet\n",
    "# Returns:\n",
    "#   Parquet -vector- (rw+v): (Geo)Parquet (*.parquet)"
   ]
  }
 ],
 "metadata": {
  "application/vnd.databricks.v1+notebook": {
   "computePreferences": {
    "hardware": {
     "accelerator": null,
     "gpuPoolId": null,
     "memory": null
    }
   },
   "dashboards": [],
   "environmentMetadata": {
    "base_environment": "",
    "environment_version": "3"
   },
   "inputWidgetPreferences": null,
   "language": "python",
   "notebookMetadata": {
    "pythonIndentUnit": 4
   },
   "notebookName": "databricks_ogr2ogr_parquet",
   "widgets": {}
  },
  "colab": {
   "authorship_tag": "ABX9TyNkxCmUT7y+CUBt2QDhnUYx",
   "include_colab_link": true,
   "provenance": []
  },
  "kernelspec": {
   "display_name": "venv",
   "language": "python",
   "name": "python3"
  },
  "language_info": {
   "name": "python"
  }
 },
 "nbformat": 4,
 "nbformat_minor": 0
}
