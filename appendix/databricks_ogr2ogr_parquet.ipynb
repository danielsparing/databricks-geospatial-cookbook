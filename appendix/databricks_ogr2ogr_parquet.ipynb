{
 "cells": [
  {
   "cell_type": "markdown",
   "metadata": {},
   "source": [
    "\n",
    "# How to install `ogr2ogr` in a Databricks notebook (incl. Parquet support)"
   ]
  },
  {
   "cell_type": "markdown",
   "metadata": {},
   "source": [
    "> [!NOTE]\n",
    "> This was tested on Serverless notebook, Environment version 2, as well as on a classic notebook with DBR 15.4 LTS.\n",
    "> TODO: add that this is for single-node\n"
   ]
  },
  {
   "cell_type": "markdown",
   "metadata": {},
   "source": [
    "`ogr2ogr` is a geospatial file conversion tool, part of [GDAL](https://gdal.org/). For example, you can use it to read in a directory of GML (geo XML) files, and write them out to GeoPackage (`.gpkg`), or even GeoParquet."
   ]
  },
  {
   "cell_type": "markdown",
   "metadata": {},
   "source": [
    "TODO: mirroring the colab version, we can add the apt install that doesn't include parquet yet, spell it out: because you can't as of june 2025 apt install libgdal-arrow-parquet\n",
    "\n",
    "```\n",
    "%sh\n",
    "# if http traffic is blocked, we need to use https for `apt` sources\n",
    "sed -i 's|http://|https://|g' /etc/apt/sources.list.d/ubuntu.sources\n",
    "\n",
    "# following https://r-spatial.github.io/sf/#ubuntu\n",
    "sudo apt -y update && apt install -y gdal-bin libgdal-dev\n",
    "```"
   ]
  },
  {
   "cell_type": "markdown",
   "metadata": {},
   "source": [
    "The `libgdal-arrow-parquet` extension package that we need [can be installed](https://gdal.org/en/stable/download.html#conda) via conda-forge. So let's first install conda-forge [^1]:\n",
    "\n",
    "[^1]: The curl download link comes from [conda-forge](https://conda-forge.org/download) and their installation [instructions](https://github.com/conda-forge/miniforge?tab=readme-ov-file#install) on GitHub."
   ]
  },
  {
   "cell_type": "code",
   "execution_count": null,
   "metadata": {},
   "outputs": [],
   "source": [
    "import os"
   ]
  },
  {
   "cell_type": "code",
   "execution_count": null,
   "metadata": {},
   "outputs": [],
   "source": [
    "!curl -L -O \"https://github.com/conda-forge/miniforge/releases/latest/download/Miniforge3-$(uname)-$(uname -m).sh\"\n",
    "!bash Miniforge3-$(uname)-$(uname -m).sh -b -p  ~/miniforge\n",
    "!rm Miniforge3-$(uname)-$(uname -m).sh\n",
    "\n",
    "os.environ[\"PATH\"] = \"~/miniforge/bin:\" + os.environ[\"PATH\"]"
   ]
  },
  {
   "cell_type": "markdown",
   "metadata": {},
   "source": [
    "Now we can add arrow/parquet support:"
   ]
  },
  {
   "cell_type": "code",
   "execution_count": null,
   "metadata": {
    "colab": {
     "base_uri": "https://localhost:8080/"
    },
    "id": "ADcVGHrrFZps",
    "outputId": "38f9b450-9c79-4d5a-cc7c-59391084b628"
   },
   "outputs": [],
   "source": [
    "!conda install libgdal-arrow-parquet -y\n",
    "\n",
    "os.environ[\"PROJ_LIB\"] = f\"{os.path.expanduser('~')}/miniforge/share/proj\""
   ]
  },
  {
   "cell_type": "markdown",
   "metadata": {},
   "source": [
    "And that's it:"
   ]
  },
  {
   "cell_type": "code",
   "execution_count": null,
   "metadata": {
    "colab": {
     "base_uri": "https://localhost:8080/"
    },
    "id": "QIeFAsDdF3IA",
    "outputId": "f872a4d1-8c8c-4c14-8fae-e994c845b929"
   },
   "outputs": [],
   "source": [
    "!ogr2ogr --formats | grep parquet\n",
    "# Returns:\n",
    "#   Parquet -vector- (rw+v): (Geo)Parquet (*.parquet)"
   ]
  }
 ],
 "metadata": {
  "colab": {
   "authorship_tag": "ABX9TyNkxCmUT7y+CUBt2QDhnUYx",
   "include_colab_link": true,
   "provenance": []
  },
  "kernelspec": {
   "display_name": "venv",
   "language": "python",
   "name": "python3"
  },
  "language_info": {
   "codemirror_mode": {
    "name": "ipython",
    "version": 3
   },
   "file_extension": ".py",
   "mimetype": "text/x-python",
   "name": "python",
   "nbconvert_exporter": "python",
   "pygments_lexer": "ipython3",
   "version": "3.13.1"
  }
 },
 "nbformat": 4,
 "nbformat_minor": 0
}
