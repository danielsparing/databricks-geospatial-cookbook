{
 "cells": [
  {
   "cell_type": "markdown",
   "id": "0",
   "metadata": {},
   "source": [
    "# Import GeoPackage into Delta Lake with DuckDB\n",
    "\n",
    "_NOTE: This example is focusing on using DuckDB to parse the GeoPackage. For more complex GeoPackages, you may need to install GDAL yourself and use the GDAL command line tools._"
   ]
  },
  {
   "cell_type": "markdown",
   "id": "1",
   "metadata": {},
   "source": [
    "This example in facts works just as much for any spatial formats that DuckDB Spatial supports via its GDAL integration, see the output of [ST_Drivers](https://duckdb.org/docs/stable/core_extensions/spatial/functions.html#st_drivers)."
   ]
  },
  {
   "cell_type": "code",
   "execution_count": null,
   "id": "2",
   "metadata": {},
   "outputs": [],
   "source": [
    "import duckdb\n",
    "\n",
    "duckdb.sql(\"install spatial; load spatial\")"
   ]
  },
  {
   "cell_type": "code",
   "execution_count": null,
   "id": "3",
   "metadata": {},
   "outputs": [],
   "source": [
    "GPKG_URL = \"https://service.pdok.nl/kadaster/bestuurlijkegebieden/atom/v1_0/downloads/BestuurlijkeGebieden_2025.gpkg\""
   ]
  },
  {
   "cell_type": "code",
   "execution_count": null,
   "id": "4",
   "metadata": {},
   "outputs": [],
   "source": [
    "layers = duckdb.sql(\n",
    "    f\"\"\"\n",
    "with t as (\n",
    "    select unnest(layers) layer\n",
    "     from st_read_meta('{GPKG_URL}'))\n",
    "select\n",
    "    layer.name layer_name,\n",
    "    layer.geometry_fields[1].name geom_field\n",
    "from t\"\"\"\n",
    ").df()\n",
    "\n",
    "layers\n",
    "\n",
    "# Returns:\n",
    "\n",
    "# layer_name\tgeom_field\n",
    "# 0\tgemeentegebied\tgeom\n",
    "# 1\tlandgebied\tgeom\n",
    "# 2\tprovinciegebied\tgeom"
   ]
  },
  {
   "cell_type": "code",
   "execution_count": null,
   "id": "5",
   "metadata": {},
   "outputs": [],
   "source": [
    "layer_name, geom_field = layers.loc[0, [\"layer_name\", \"geom_field\"]]\n",
    "\n",
    "duckdb.sql(\n",
    "    f\"\"\"copy (\n",
    "  select * replace(st_aswkb({geom_field}) as {geom_field})\n",
    "  from\n",
    "    st_read(\n",
    "      '{GPKG_URL}',\n",
    "      layer='{layer_name}')\n",
    "  ) to '/tmp/{layer_name}.parquet' (format parquet)\"\"\"\n",
    ")"
   ]
  },
  {
   "cell_type": "code",
   "execution_count": null,
   "id": "6",
   "metadata": {},
   "outputs": [],
   "source": [
    "spark.read.parquet(\"/tmp/{layer_name}.parquet\").display()  # noqa: S108"
   ]
  },
  {
   "cell_type": "markdown",
   "id": "7",
   "metadata": {},
   "source": [
    "You can store the above spark data frame as a Delta Lake table as needed."
   ]
  }
 ],
 "metadata": {
  "kernelspec": {
   "display_name": "venv (3.13.3)",
   "language": "python",
   "name": "python3"
  },
  "language_info": {
   "codemirror_mode": {
    "name": "ipython",
    "version": 3
   },
   "file_extension": ".py",
   "mimetype": "text/x-python",
   "name": "python",
   "nbconvert_exporter": "python",
   "pygments_lexer": "ipython3",
   "version": "3.13.3"
  }
 },
 "nbformat": 4,
 "nbformat_minor": 5
}
