{
 "cells": [
  {
   "cell_type": "markdown",
   "id": "0",
   "metadata": {},
   "source": [
    "# Export Delta Lake table to Geoparquet with DuckDB"
   ]
  },
  {
   "cell_type": "markdown",
   "id": "1",
   "metadata": {},
   "source": [
    "## Setup"
   ]
  },
  {
   "cell_type": "code",
   "execution_count": null,
   "id": "2",
   "metadata": {
    "vscode": {
     "languageId": "plaintext"
    }
   },
   "outputs": [],
   "source": [
    "%pip install duckdb --quiet\n",
    "\n",
    "import duckdb\n",
    "\n",
    "duckdb.sql(\"install spatial; load spatial\")"
   ]
  },
  {
   "cell_type": "code",
   "execution_count": null,
   "id": "3",
   "metadata": {
    "vscode": {
     "languageId": "plaintext"
    }
   },
   "outputs": [],
   "source": [
    "CATALOG = \"workspace\"\n",
    "SCHEMA = \"default\"\n",
    "VOLUME = \"default\"\n",
    "\n",
    "GEOMETRY_COLUMN = \"geometry\""
   ]
  },
  {
   "cell_type": "markdown",
   "id": "4",
   "metadata": {},
   "source": [
    "Let's first create an example table with GEOMETRY columns:"
   ]
  },
  {
   "cell_type": "code",
   "execution_count": null,
   "id": "5",
   "metadata": {
    "vscode": {
     "languageId": "plaintext"
    }
   },
   "outputs": [],
   "source": [
    "%sql\n",
    "create or replace temporary view geometries as\n",
    "select\n",
    "  st_point(0, 0, 4326) as geometry,\n",
    "  \"Null Island\" as name\n",
    "union all\n",
    "select\n",
    "  st_point(155000, 463000, 28992) as geometry,\n",
    "  \"Onze Lieve Vrouwetoren\" as name\n",
    "union all\n",
    "select\n",
    "  st_makepolygon(st_makeline(array(\n",
    "    st_point(-80.1935973, 25.7741566, 4326),\n",
    "    st_point(-64.7563086, 32.3040273, 4326),\n",
    "    st_point(-66.1166669, 18.4653003, 4326),\n",
    "    st_point(-80.1935973, 25.7741566, 4326)\n",
    "  ))) as geometry,\n",
    "  \"Bermuda Triangle\" as name;\n",
    "\n",
    "select\n",
    "  *\n",
    "from\n",
    "  geometries\n",
    "-- Returns:\n",
    "\n",
    "-- _sqldf:pyspark.sql.connect.dataframe.DataFrame\n",
    "-- geometry:geometry(SRID:ANY)\n",
    "-- name:string\n",
    "\n",
    "-- geometry\tname\n",
    "-- SRID=4326;POINT(0 0)\tNull Island\n",
    "-- SRID=28992;POINT(155000 463000)\tOnze Lieve Vrouwetoren\n",
    "-- SRID=4326;POLYGON((-80.1935973 25.7741566,-64.7563086 32.3040273,-66.1166669 18.4653003,-80.1935973 25.7741566))\tBermuda Triangle"
   ]
  },
  {
   "cell_type": "markdown",
   "id": "6",
   "metadata": {},
   "source": [
    "We'll use DuckDB Spatial to write he Geoparquet file, so first, we output the above Delta Lake table as a directory of Parquet files, using lon/lat coordinates.\n",
    "\n",
    "(You could also use Databricks [Temporary Table Credentials API](https://docs.databricks.com/api/workspace/temporarytablecredentials) to directly read the Delta Lake table with the DuckDB [Delta Extension](https://duckdb.org/docs/stable/core_extensions/delta.html) instead.)"
   ]
  },
  {
   "cell_type": "code",
   "execution_count": null,
   "id": "7",
   "metadata": {
    "vscode": {
     "languageId": "plaintext"
    }
   },
   "outputs": [],
   "source": [
    "from pyspark.sql import functions as F\n",
    "\n",
    "spark.table(\"geometries\").withColumn(\n",
    "    \"geometry\", F.expr(\"st_transform(geometry, 4326)\")\n",
    ").write.parquet(\"/Volumes/{CATALOG}/{SCHEMA}/{VOLUME}/geometries.parquet\")"
   ]
  },
  {
   "cell_type": "markdown",
   "id": "8",
   "metadata": {},
   "source": [
    "Now we can use duckdb to transform the Parquet files into a valid Geoparquet file:\n",
    "\n",
    "(Note that if you didn't load the DuckDB Spatial extension, the below would still succeed but Geoparquet metadata would _not_ be written.)"
   ]
  },
  {
   "cell_type": "code",
   "execution_count": null,
   "id": "9",
   "metadata": {},
   "outputs": [],
   "source": [
    "query = f\"\"\"\n",
    "load spatial;\n",
    "copy (\n",
    "select \n",
    "    * replace (st_geomfromwkb({GEOMETRY_COLUMN}) as geometry)\n",
    "from\n",
    "    read_parquet('/Volumes/{CATALOG}/{SCHEMA}/{VOLUME}/geometries.parquet/part-*.parquet')\n",
    ") to '/Volumes/{CATALOG}/{SCHEMA}/{VOLUME}/geometries_geo.parquet' (format parquet)\"\"\"\n",
    "duckdb.sql(query)"
   ]
  },
  {
   "cell_type": "markdown",
   "id": "10",
   "metadata": {},
   "source": [
    "There are more details around writing Geoparquet such as writing custom CRS's or defining a [\"covering\"](https://geoparquet.org/releases/v1.1.0/) using bounding boxes, but the above example is already a valid Geoparquet."
   ]
  },
  {
   "cell_type": "markdown",
   "id": "11",
   "metadata": {},
   "source": []
  }
 ],
 "metadata": {
  "language_info": {
   "name": "python"
  }
 },
 "nbformat": 4,
 "nbformat_minor": 5
}
