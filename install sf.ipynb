{
 "cells": [
  {
   "cell_type": "code",
   "execution_count": null,
   "metadata": {
    "application/vnd.databricks.v1+cell": {
     "cellMetadata": {
      "byteLimit": 2048000,
      "rowLimit": 10000
     },
     "inputWidgets": {},
     "nuid": "d02a69b9-7ae7-4676-b559-39d0207672a7",
     "showTitle": false,
     "tableResultSettingsMap": {},
     "title": ""
    }
   },
   "outputs": [],
   "source": [
    "%sh\n",
    "# http traffic is blocked, so we need to use https for `apt` sources\n",
    "sed -i 's|http://|https://|g' /etc/apt/sources.list.d/ubuntu.sources\n",
    "\n",
    "# following https://r-spatial.github.io/sf/#ubuntu\n",
    "sudo apt -y update && apt install -y libudunits2-dev libgdal-dev libgeos-dev libproj-dev libsqlite3-dev"
   ]
  },
  {
   "cell_type": "code",
   "execution_count": null,
   "metadata": {
    "application/vnd.databricks.v1+cell": {
     "cellMetadata": {
      "byteLimit": 2048000,
      "rowLimit": 10000
     },
     "inputWidgets": {},
     "nuid": "947c5d33-e4c3-4efc-b9d2-d940792c2f10",
     "showTitle": false,
     "tableResultSettingsMap": {},
     "title": ""
    }
   },
   "outputs": [],
   "source": [
    "%r\n",
    "# https://zacdav-db.github.io/dbrx-r-compendium/chapters/pkg-management/fast-installs.html#setting-repo-within-notebook\n",
    "\n",
    "release <- system(\"lsb_release -c --short\", intern=T)\n",
    "\n",
    "# set the user agent string otherwise pre-compiled binarys aren't used\n",
    "options(\n",
    "    HTTPUserAgent=sprintf(\n",
    "        \"R/%s R (%s)\",\n",
    "        getRversion(),\n",
    "        paste(getRversion(), R.version[\"platform\"], R.version[\"arch\"], R.version[\"os\"]),\n",
    "    ),\n",
    "    repos=paste0(\"https://packagemanager.posit.co/cran/__linux__/\", release, \"/latest\"),\n",
    ")"
   ]
  },
  {
   "cell_type": "code",
   "execution_count": null,
   "metadata": {
    "application/vnd.databricks.v1+cell": {
     "cellMetadata": {
      "byteLimit": 2048000,
      "rowLimit": 10000
     },
     "inputWidgets": {},
     "nuid": "b37fb50b-1481-4a97-9e88-975850a59f7e",
     "showTitle": false,
     "tableResultSettingsMap": {},
     "title": ""
    }
   },
   "outputs": [],
   "source": [
    "%r\n",
    "install.packages(\"sf\")"
   ]
  },
  {
   "cell_type": "code",
   "execution_count": null,
   "metadata": {
    "application/vnd.databricks.v1+cell": {
     "cellMetadata": {
      "byteLimit": 2048000,
      "rowLimit": 10000
     },
     "inputWidgets": {},
     "nuid": "8bc5075b-b434-4c5e-94e2-b16bbfe3ed72",
     "showTitle": false,
     "tableResultSettingsMap": {},
     "title": ""
    }
   },
   "outputs": [],
   "source": [
    "%r\n",
    "library(sf)"
   ]
  },
  {
   "cell_type": "code",
   "execution_count": null,
   "metadata": {
    "application/vnd.databricks.v1+cell": {
     "cellMetadata": {
      "byteLimit": 2048000,
      "rowLimit": 10000
     },
     "inputWidgets": {},
     "nuid": "18292644-726b-48c7-9433-67ced4b08f2e",
     "showTitle": false,
     "tableResultSettingsMap": {},
     "title": ""
    }
   },
   "outputs": [],
   "source": [
    "%r\n",
    "st_point(c(1, 1))"
   ]
  }
 ],
 "metadata": {
  "application/vnd.databricks.v1+notebook": {
   "computePreferences": null,
   "dashboards": [],
   "environmentMetadata": {
    "base_environment": "",
    "environment_version": "2"
   },
   "inputWidgetPreferences": null,
   "language": "python",
   "notebookMetadata": {
    "mostRecentlyExecutedCommandWithImplicitDF": {
     "commandId": 6453517139303545,
     "dataframes": [
      "_sqldf"
     ]
    },
    "pythonIndentUnit": 4
   },
   "notebookName": "install sf",
   "widgets": {}
  },
  "language_info": {
   "name": "python"
  }
 },
 "nbformat": 4,
 "nbformat_minor": 0
}
